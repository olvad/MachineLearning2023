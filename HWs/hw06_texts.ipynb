{
 "cells": [
  {
   "cell_type": "markdown",
   "metadata": {
    "id": "xrvOD02o3HvH"
   },
   "source": [
    "# Домашнее задание 6: классификация текстов"
   ]
  },
  {
   "cell_type": "markdown",
   "metadata": {
    "id": "sxwj_Iie3HvJ"
   },
   "source": [
    "В этом домашнем задании вам предстоит построить классификатор текстов!\n",
    "\n",
    "Данные мы будем использовать из Kaggle соревнования: https://www.kaggle.com/competitions/nlp-getting-started/data \n",
    "\n",
    "\n",
    "Оттуда надо скачать файл train.csv. На обучающую и тестовую выборки его поделим кодом ниже, менять его не надо!"
   ]
  },
  {
   "cell_type": "markdown",
   "metadata": {
    "id": "qQVgqLg93HvJ"
   },
   "source": [
    "Мы будем работать с датасетом постов из твиттера. Нам предстоит решать задачу бинарной классификации - определять содержатся ли в твитте информация о настоящей катастрофе/инциденте или нет."
   ]
  },
  {
   "cell_type": "code",
   "execution_count": 1,
   "metadata": {
    "id": "TcjEYh7R3HvK"
   },
   "outputs": [],
   "source": [
    "import numpy as np\n",
    "import pandas as pd\n",
    "from typing import  List\n",
    "import matplotlib.pyplot as plt\n",
    "import seaborn as sns\n",
    "from string import punctuation"
   ]
  },
  {
   "cell_type": "code",
   "execution_count": 2,
   "metadata": {},
   "outputs": [
    {
     "name": "stdout",
     "output_type": "stream",
     "text": [
      "Requirement already satisfied: nltk in /Users/vadimkuznetsov/PycharmProjects/pythonProject/venv/lib/python3.9/site-packages (3.8.1)\n",
      "Requirement already satisfied: click in /Users/vadimkuznetsov/PycharmProjects/pythonProject/venv/lib/python3.9/site-packages (from nltk) (8.1.3)\n",
      "Requirement already satisfied: joblib in /Users/vadimkuznetsov/PycharmProjects/pythonProject/venv/lib/python3.9/site-packages (from nltk) (1.2.0)\n",
      "Requirement already satisfied: regex>=2021.8.3 in /Users/vadimkuznetsov/PycharmProjects/pythonProject/venv/lib/python3.9/site-packages (from nltk) (2023.5.5)\n",
      "Requirement already satisfied: tqdm in /Users/vadimkuznetsov/PycharmProjects/pythonProject/venv/lib/python3.9/site-packages (from nltk) (4.64.1)\n",
      "\n",
      "\u001b[1m[\u001b[0m\u001b[34;49mnotice\u001b[0m\u001b[1;39;49m]\u001b[0m\u001b[39;49m A new release of pip is available: \u001b[0m\u001b[31;49m23.1.2\u001b[0m\u001b[39;49m -> \u001b[0m\u001b[32;49m23.2.1\u001b[0m\n",
      "\u001b[1m[\u001b[0m\u001b[34;49mnotice\u001b[0m\u001b[1;39;49m]\u001b[0m\u001b[39;49m To update, run: \u001b[0m\u001b[32;49mpip install --upgrade pip\u001b[0m\n"
     ]
    }
   ],
   "source": [
    "!pip install nltk"
   ]
  },
  {
   "cell_type": "code",
   "execution_count": 3,
   "metadata": {
    "id": "mjwffGiB3HvK"
   },
   "outputs": [],
   "source": [
    "data = pd.read_csv('train.csv')"
   ]
  },
  {
   "cell_type": "code",
   "execution_count": 4,
   "metadata": {
    "colab": {
     "base_uri": "https://localhost:8080/",
     "height": 206
    },
    "id": "v0uUoFTN3HvK",
    "outputId": "0d37d677-a00d-449c-8f86-6f85dce2ef4a"
   },
   "outputs": [
    {
     "data": {
      "text/html": [
       "<div>\n",
       "<style scoped>\n",
       "    .dataframe tbody tr th:only-of-type {\n",
       "        vertical-align: middle;\n",
       "    }\n",
       "\n",
       "    .dataframe tbody tr th {\n",
       "        vertical-align: top;\n",
       "    }\n",
       "\n",
       "    .dataframe thead th {\n",
       "        text-align: right;\n",
       "    }\n",
       "</style>\n",
       "<table border=\"1\" class=\"dataframe\">\n",
       "  <thead>\n",
       "    <tr style=\"text-align: right;\">\n",
       "      <th></th>\n",
       "      <th>id</th>\n",
       "      <th>keyword</th>\n",
       "      <th>location</th>\n",
       "      <th>text</th>\n",
       "      <th>target</th>\n",
       "    </tr>\n",
       "  </thead>\n",
       "  <tbody>\n",
       "    <tr>\n",
       "      <th>0</th>\n",
       "      <td>1</td>\n",
       "      <td>NaN</td>\n",
       "      <td>NaN</td>\n",
       "      <td>Our Deeds are the Reason of this #earthquake M...</td>\n",
       "      <td>1</td>\n",
       "    </tr>\n",
       "    <tr>\n",
       "      <th>1</th>\n",
       "      <td>4</td>\n",
       "      <td>NaN</td>\n",
       "      <td>NaN</td>\n",
       "      <td>Forest fire near La Ronge Sask. Canada</td>\n",
       "      <td>1</td>\n",
       "    </tr>\n",
       "    <tr>\n",
       "      <th>2</th>\n",
       "      <td>5</td>\n",
       "      <td>NaN</td>\n",
       "      <td>NaN</td>\n",
       "      <td>All residents asked to 'shelter in place' are ...</td>\n",
       "      <td>1</td>\n",
       "    </tr>\n",
       "    <tr>\n",
       "      <th>3</th>\n",
       "      <td>6</td>\n",
       "      <td>NaN</td>\n",
       "      <td>NaN</td>\n",
       "      <td>13,000 people receive #wildfires evacuation or...</td>\n",
       "      <td>1</td>\n",
       "    </tr>\n",
       "    <tr>\n",
       "      <th>4</th>\n",
       "      <td>7</td>\n",
       "      <td>NaN</td>\n",
       "      <td>NaN</td>\n",
       "      <td>Just got sent this photo from Ruby #Alaska as ...</td>\n",
       "      <td>1</td>\n",
       "    </tr>\n",
       "  </tbody>\n",
       "</table>\n",
       "</div>"
      ],
      "text/plain": [
       "   id keyword location                                               text  \\\n",
       "0   1     NaN      NaN  Our Deeds are the Reason of this #earthquake M...   \n",
       "1   4     NaN      NaN             Forest fire near La Ronge Sask. Canada   \n",
       "2   5     NaN      NaN  All residents asked to 'shelter in place' are ...   \n",
       "3   6     NaN      NaN  13,000 people receive #wildfires evacuation or...   \n",
       "4   7     NaN      NaN  Just got sent this photo from Ruby #Alaska as ...   \n",
       "\n",
       "   target  \n",
       "0       1  \n",
       "1       1  \n",
       "2       1  \n",
       "3       1  \n",
       "4       1  "
      ]
     },
     "execution_count": 4,
     "metadata": {},
     "output_type": "execute_result"
    }
   ],
   "source": [
    "data.head()"
   ]
  },
  {
   "cell_type": "code",
   "execution_count": 5,
   "metadata": {
    "id": "f49NdWY23HvL"
   },
   "outputs": [],
   "source": [
    "from sklearn.model_selection import train_test_split\n",
    "\n",
    "train, test = train_test_split(data, test_size=0.3, random_state=42)"
   ]
  },
  {
   "cell_type": "markdown",
   "metadata": {
    "id": "YlLemInT3HvL"
   },
   "source": [
    "## Задание 1 (0.5 балла)\n",
    "\n",
    "Выведете на экран информацию о пропусках в данных. Если пропуски присутствуют заполните их пустой строкой."
   ]
  },
  {
   "cell_type": "code",
   "execution_count": 6,
   "metadata": {
    "id": "96aJxmkV4105"
   },
   "outputs": [
    {
     "data": {
      "text/plain": [
       "id             0\n",
       "keyword       44\n",
       "location    1760\n",
       "text           0\n",
       "target         0\n",
       "dtype: int64"
      ]
     },
     "execution_count": 6,
     "metadata": {},
     "output_type": "execute_result"
    }
   ],
   "source": [
    "train.isna().sum()"
   ]
  },
  {
   "cell_type": "code",
   "execution_count": 7,
   "metadata": {},
   "outputs": [
    {
     "data": {
      "text/plain": [
       "id            0\n",
       "keyword      17\n",
       "location    773\n",
       "text          0\n",
       "target        0\n",
       "dtype: int64"
      ]
     },
     "execution_count": 7,
     "metadata": {},
     "output_type": "execute_result"
    }
   ],
   "source": [
    "test.isna().sum()"
   ]
  },
  {
   "cell_type": "code",
   "execution_count": 8,
   "metadata": {},
   "outputs": [],
   "source": [
    "train.fillna('', inplace=True)\n",
    "test.fillna('', inplace=True)"
   ]
  },
  {
   "cell_type": "code",
   "execution_count": 9,
   "metadata": {},
   "outputs": [
    {
     "data": {
      "text/plain": [
       "id          0\n",
       "keyword     0\n",
       "location    0\n",
       "text        0\n",
       "target      0\n",
       "dtype: int64"
      ]
     },
     "execution_count": 9,
     "metadata": {},
     "output_type": "execute_result"
    }
   ],
   "source": [
    "train.isna().sum()"
   ]
  },
  {
   "cell_type": "code",
   "execution_count": 10,
   "metadata": {},
   "outputs": [
    {
     "data": {
      "text/plain": [
       "id          0\n",
       "keyword     0\n",
       "location    0\n",
       "text        0\n",
       "target      0\n",
       "dtype: int64"
      ]
     },
     "execution_count": 10,
     "metadata": {},
     "output_type": "execute_result"
    }
   ],
   "source": [
    "test.isna().sum()"
   ]
  },
  {
   "cell_type": "markdown",
   "metadata": {
    "id": "A8CPBUal3HvL"
   },
   "source": [
    "## Задание 2 (1 балл)\n",
    "Давайте немного посмотрим на наши данные. Визуализируйте (где явно просят) или выведете информацию о следующем:\n",
    "\n",
    "1. Какое распределение классов в обучающей выборке?\n"
   ]
  },
  {
   "cell_type": "code",
   "execution_count": 11,
   "metadata": {
    "id": "WvJ_EU9o5BGm"
   },
   "outputs": [
    {
     "data": {
      "text/plain": [
       "0    3024\n",
       "1    2305\n",
       "Name: target, dtype: int64"
      ]
     },
     "execution_count": 11,
     "metadata": {},
     "output_type": "execute_result"
    }
   ],
   "source": [
    "train.target.value_counts()"
   ]
  },
  {
   "cell_type": "code",
   "execution_count": 12,
   "metadata": {},
   "outputs": [
    {
     "name": "stdout",
     "output_type": "stream",
     "text": [
      "0.5674610621129668 % - нули. Нет сильного дисбаланса\n"
     ]
    }
   ],
   "source": [
    "print(train[train.target == 0].shape[0] / train.shape[0],'% - нули. Нет сильного дисбаланса')"
   ]
  },
  {
   "cell_type": "markdown",
   "metadata": {
    "id": "f08KScbP5q2y"
   },
   "source": [
    "2. Посмотрите на колонку \"keyword\" - возьмите 10 наиболее встречающихся значений, постройте ступенчатую диаграмму распределения классов в зависимости от значения keyword, сделайте выводы."
   ]
  },
  {
   "cell_type": "code",
   "execution_count": 13,
   "metadata": {},
   "outputs": [
    {
     "data": {
      "text/plain": [
       "array(['damage', 'siren', 'wreckage', 'fatalities', 'deluge', 'twister',\n",
       "       'fatality', 'harm', 'emergency', 'nuclear%20reactor'], dtype=object)"
      ]
     },
     "execution_count": 13,
     "metadata": {},
     "output_type": "execute_result"
    }
   ],
   "source": [
    "train[train['keyword'] != '']['keyword'].value_counts().nlargest(10).index.to_numpy()"
   ]
  },
  {
   "cell_type": "code",
   "execution_count": 14,
   "metadata": {
    "id": "WSCb0htu5w_Y"
   },
   "outputs": [],
   "source": [
    "popular_keywords = train[train['keyword'] != '']['keyword'].value_counts().nlargest(10).index.to_numpy()"
   ]
  },
  {
   "cell_type": "code",
   "execution_count": 15,
   "metadata": {},
   "outputs": [
    {
     "data": {
      "text/html": [
       "<div>\n",
       "<style scoped>\n",
       "    .dataframe tbody tr th:only-of-type {\n",
       "        vertical-align: middle;\n",
       "    }\n",
       "\n",
       "    .dataframe tbody tr th {\n",
       "        vertical-align: top;\n",
       "    }\n",
       "\n",
       "    .dataframe thead th {\n",
       "        text-align: right;\n",
       "    }\n",
       "</style>\n",
       "<table border=\"1\" class=\"dataframe\">\n",
       "  <thead>\n",
       "    <tr style=\"text-align: right;\">\n",
       "      <th></th>\n",
       "      <th>id</th>\n",
       "      <th>keyword</th>\n",
       "      <th>location</th>\n",
       "      <th>text</th>\n",
       "      <th>target</th>\n",
       "    </tr>\n",
       "  </thead>\n",
       "  <tbody>\n",
       "    <tr>\n",
       "      <th>5130</th>\n",
       "      <td>7317</td>\n",
       "      <td>nuclear%20reactor</td>\n",
       "      <td>Denver, CO</td>\n",
       "      <td>Nuclear #Solar Power #Japanese #Fukushima Reac...</td>\n",
       "      <td>1</td>\n",
       "    </tr>\n",
       "    <tr>\n",
       "      <th>2004</th>\n",
       "      <td>2880</td>\n",
       "      <td>damage</td>\n",
       "      <td>Austin | San Diego</td>\n",
       "      <td>@swb1192 if the NDA is written to damage your ...</td>\n",
       "      <td>0</td>\n",
       "    </tr>\n",
       "    <tr>\n",
       "      <th>6135</th>\n",
       "      <td>8753</td>\n",
       "      <td>siren</td>\n",
       "      <td>Tampa, FL</td>\n",
       "      <td>A demoness with the voice of an angel. Like a ...</td>\n",
       "      <td>0</td>\n",
       "    </tr>\n",
       "    <tr>\n",
       "      <th>3165</th>\n",
       "      <td>4543</td>\n",
       "      <td>emergency</td>\n",
       "      <td></td>\n",
       "      <td>@chowtaxis of Newport a big thanks for the eme...</td>\n",
       "      <td>1</td>\n",
       "    </tr>\n",
       "    <tr>\n",
       "      <th>4139</th>\n",
       "      <td>5886</td>\n",
       "      <td>harm</td>\n",
       "      <td>Massachusetts, USA</td>\n",
       "      <td>@tareksocal I think a lot of celebrities have ...</td>\n",
       "      <td>0</td>\n",
       "    </tr>\n",
       "    <tr>\n",
       "      <th>...</th>\n",
       "      <td>...</td>\n",
       "      <td>...</td>\n",
       "      <td>...</td>\n",
       "      <td>...</td>\n",
       "      <td>...</td>\n",
       "    </tr>\n",
       "    <tr>\n",
       "      <th>5134</th>\n",
       "      <td>7323</td>\n",
       "      <td>nuclear%20reactor</td>\n",
       "      <td>Paris (France)</td>\n",
       "      <td>Magnetic and electrostatic nuclear fusion reac...</td>\n",
       "      <td>0</td>\n",
       "    </tr>\n",
       "    <tr>\n",
       "      <th>3645</th>\n",
       "      <td>5194</td>\n",
       "      <td>fatalities</td>\n",
       "      <td>San Francisco</td>\n",
       "      <td>'Motordom' lobbied to change our language arou...</td>\n",
       "      <td>0</td>\n",
       "    </tr>\n",
       "    <tr>\n",
       "      <th>3152</th>\n",
       "      <td>4526</td>\n",
       "      <td>emergency</td>\n",
       "      <td>Adelaide</td>\n",
       "      <td>Myanmar floods: Childfund https://t.co/pQHQ4Jn...</td>\n",
       "      <td>1</td>\n",
       "    </tr>\n",
       "    <tr>\n",
       "      <th>7513</th>\n",
       "      <td>10746</td>\n",
       "      <td>wreckage</td>\n",
       "      <td></td>\n",
       "      <td>KUALA LUMPUR (Reuters) - A piece of a wing tha...</td>\n",
       "      <td>1</td>\n",
       "    </tr>\n",
       "    <tr>\n",
       "      <th>6164</th>\n",
       "      <td>8790</td>\n",
       "      <td>siren</td>\n",
       "      <td>Charlotte, NC</td>\n",
       "      <td>This cop seriously just turned on their siren ...</td>\n",
       "      <td>0</td>\n",
       "    </tr>\n",
       "  </tbody>\n",
       "</table>\n",
       "<p>319 rows × 5 columns</p>\n",
       "</div>"
      ],
      "text/plain": [
       "         id            keyword            location  \\\n",
       "5130   7317  nuclear%20reactor          Denver, CO   \n",
       "2004   2880             damage  Austin | San Diego   \n",
       "6135   8753              siren           Tampa, FL   \n",
       "3165   4543          emergency                       \n",
       "4139   5886               harm  Massachusetts, USA   \n",
       "...     ...                ...                 ...   \n",
       "5134   7323  nuclear%20reactor      Paris (France)   \n",
       "3645   5194         fatalities       San Francisco   \n",
       "3152   4526          emergency            Adelaide   \n",
       "7513  10746           wreckage                       \n",
       "6164   8790              siren       Charlotte, NC   \n",
       "\n",
       "                                                   text  target  \n",
       "5130  Nuclear #Solar Power #Japanese #Fukushima Reac...       1  \n",
       "2004  @swb1192 if the NDA is written to damage your ...       0  \n",
       "6135  A demoness with the voice of an angel. Like a ...       0  \n",
       "3165  @chowtaxis of Newport a big thanks for the eme...       1  \n",
       "4139  @tareksocal I think a lot of celebrities have ...       0  \n",
       "...                                                 ...     ...  \n",
       "5134  Magnetic and electrostatic nuclear fusion reac...       0  \n",
       "3645  'Motordom' lobbied to change our language arou...       0  \n",
       "3152  Myanmar floods: Childfund https://t.co/pQHQ4Jn...       1  \n",
       "7513  KUALA LUMPUR (Reuters) - A piece of a wing tha...       1  \n",
       "6164  This cop seriously just turned on their siren ...       0  \n",
       "\n",
       "[319 rows x 5 columns]"
      ]
     },
     "execution_count": 15,
     "metadata": {},
     "output_type": "execute_result"
    }
   ],
   "source": [
    "filtered_df = train[train['keyword'].isin(popular_keywords)]\n",
    "filtered_df"
   ]
  },
  {
   "cell_type": "code",
   "execution_count": 16,
   "metadata": {
    "colab": {
     "base_uri": "https://localhost:8080/",
     "height": 372
    },
    "id": "r9wSwm4L9REm",
    "outputId": "3c6827d4-d35f-47ac-c756-6ab4740ed0b9"
   },
   "outputs": [
    {
     "data": {
      "image/png": "[encoded data removed]",
      "text/plain": [
       "<Figure size 640x480 with 1 Axes>"
      ]
     },
     "metadata": {},
     "output_type": "display_data"
    },
    {
     "data": {
      "text/plain": [
       "<Figure size 1600x600 with 0 Axes>"
      ]
     },
     "metadata": {},
     "output_type": "display_data"
    }
   ],
   "source": [
    "sns.histplot(data = filtered_df, x = 'keyword', alpha = 0.3, hue = 'target',  element=\"step\")\n",
    "plt.xticks(rotation=45, ha='right')\n",
    "plt.figure(figsize=(16, 6))\n",
    "plt.show()"
   ]
  },
  {
   "cell_type": "markdown",
   "metadata": {
    "id": "l4al3g9E-P09"
   },
   "source": [
    "**Выводы**: Видим, что при wreckage - обломках, все случаи про настоящую катастрофу, причем их больше всего\n",
    "\n",
    "При twister можем увидеть наименьшее кол-во настоящих катастроф. \n",
    "\n",
    "При siren наибольшее количество ложных новостей"
   ]
  },
  {
   "cell_type": "markdown",
   "metadata": {
    "id": "c006nNBP3HvM"
   },
   "source": [
    "## Задание 3 (0.5 балла) \n",
    "\n",
    "В этом задании предлагается объединить все три текстовых столбца в один (просто сконкатенировать cтроки) и убрать столбец с индексом."
   ]
  },
  {
   "cell_type": "code",
   "execution_count": 17,
   "metadata": {
    "colab": {
     "base_uri": "https://localhost:8080/",
     "height": 143
    },
    "id": "GdF9gFmL-c0r",
    "outputId": "ebe008b7-4d0e-4bc2-89f3-60a575c1b1fd"
   },
   "outputs": [
    {
     "data": {
      "text/html": [
       "<div>\n",
       "<style scoped>\n",
       "    .dataframe tbody tr th:only-of-type {\n",
       "        vertical-align: middle;\n",
       "    }\n",
       "\n",
       "    .dataframe tbody tr th {\n",
       "        vertical-align: top;\n",
       "    }\n",
       "\n",
       "    .dataframe thead th {\n",
       "        text-align: right;\n",
       "    }\n",
       "</style>\n",
       "<table border=\"1\" class=\"dataframe\">\n",
       "  <thead>\n",
       "    <tr style=\"text-align: right;\">\n",
       "      <th></th>\n",
       "      <th>id</th>\n",
       "      <th>keyword</th>\n",
       "      <th>location</th>\n",
       "      <th>text</th>\n",
       "      <th>target</th>\n",
       "    </tr>\n",
       "  </thead>\n",
       "  <tbody>\n",
       "    <tr>\n",
       "      <th>6590</th>\n",
       "      <td>9436</td>\n",
       "      <td>survivors</td>\n",
       "      <td>Marietta, GA</td>\n",
       "      <td>Stemming from my #Cubs talk- the team rosters ...</td>\n",
       "      <td>1</td>\n",
       "    </tr>\n",
       "    <tr>\n",
       "      <th>7122</th>\n",
       "      <td>10203</td>\n",
       "      <td>violent%20storm</td>\n",
       "      <td></td>\n",
       "      <td>If you were the NWS wth a rotating storm w/ a ...</td>\n",
       "      <td>1</td>\n",
       "    </tr>\n",
       "    <tr>\n",
       "      <th>2769</th>\n",
       "      <td>3980</td>\n",
       "      <td>devastation</td>\n",
       "      <td>Atlanta g.a.</td>\n",
       "      <td>http://t.co/Gxgm1T3W0J From Devastation to Ela...</td>\n",
       "      <td>0</td>\n",
       "    </tr>\n",
       "  </tbody>\n",
       "</table>\n",
       "</div>"
      ],
      "text/plain": [
       "         id          keyword      location  \\\n",
       "6590   9436        survivors  Marietta, GA   \n",
       "7122  10203  violent%20storm                 \n",
       "2769   3980      devastation  Atlanta g.a.   \n",
       "\n",
       "                                                   text  target  \n",
       "6590  Stemming from my #Cubs talk- the team rosters ...       1  \n",
       "7122  If you were the NWS wth a rotating storm w/ a ...       1  \n",
       "2769  http://t.co/Gxgm1T3W0J From Devastation to Ela...       0  "
      ]
     },
     "execution_count": 17,
     "metadata": {},
     "output_type": "execute_result"
    }
   ],
   "source": [
    "train.loc[[6590, 7122, 2769]]"
   ]
  },
  {
   "cell_type": "code",
   "execution_count": 18,
   "metadata": {
    "id": "lwwJKX_l-eoh"
   },
   "outputs": [
    {
     "data": {
      "text/html": [
       "<div>\n",
       "<style scoped>\n",
       "    .dataframe tbody tr th:only-of-type {\n",
       "        vertical-align: middle;\n",
       "    }\n",
       "\n",
       "    .dataframe tbody tr th {\n",
       "        vertical-align: top;\n",
       "    }\n",
       "\n",
       "    .dataframe thead th {\n",
       "        text-align: right;\n",
       "    }\n",
       "</style>\n",
       "<table border=\"1\" class=\"dataframe\">\n",
       "  <thead>\n",
       "    <tr style=\"text-align: right;\">\n",
       "      <th></th>\n",
       "      <th>id</th>\n",
       "      <th>keyword</th>\n",
       "      <th>location</th>\n",
       "      <th>text</th>\n",
       "      <th>target</th>\n",
       "    </tr>\n",
       "  </thead>\n",
       "  <tbody>\n",
       "    <tr>\n",
       "      <th>1186</th>\n",
       "      <td>1707</td>\n",
       "      <td>bridge%20collapse</td>\n",
       "      <td></td>\n",
       "      <td>bridge%20collapse  Ashes 2015: AustraliaÛªs c...</td>\n",
       "      <td>0</td>\n",
       "    </tr>\n",
       "    <tr>\n",
       "      <th>4071</th>\n",
       "      <td>5789</td>\n",
       "      <td>hail</td>\n",
       "      <td>Carol Stream, Illinois</td>\n",
       "      <td>hail Carol Stream, Illinois GREAT MICHIGAN TEC...</td>\n",
       "      <td>1</td>\n",
       "    </tr>\n",
       "    <tr>\n",
       "      <th>5461</th>\n",
       "      <td>7789</td>\n",
       "      <td>police</td>\n",
       "      <td>Houston</td>\n",
       "      <td>police Houston  CNN: Tennessee movie theater s...</td>\n",
       "      <td>1</td>\n",
       "    </tr>\n",
       "    <tr>\n",
       "      <th>5787</th>\n",
       "      <td>8257</td>\n",
       "      <td>rioting</td>\n",
       "      <td></td>\n",
       "      <td>rioting  Still rioting in a couple of hours le...</td>\n",
       "      <td>1</td>\n",
       "    </tr>\n",
       "    <tr>\n",
       "      <th>7445</th>\n",
       "      <td>10656</td>\n",
       "      <td>wounds</td>\n",
       "      <td>Lake Highlands</td>\n",
       "      <td>wounds Lake Highlands Crack in the path where ...</td>\n",
       "      <td>0</td>\n",
       "    </tr>\n",
       "    <tr>\n",
       "      <th>...</th>\n",
       "      <td>...</td>\n",
       "      <td>...</td>\n",
       "      <td>...</td>\n",
       "      <td>...</td>\n",
       "      <td>...</td>\n",
       "    </tr>\n",
       "    <tr>\n",
       "      <th>5226</th>\n",
       "      <td>7470</td>\n",
       "      <td>obliteration</td>\n",
       "      <td>Merica!</td>\n",
       "      <td>obliteration Merica! @Eganator2000 There aren'...</td>\n",
       "      <td>0</td>\n",
       "    </tr>\n",
       "    <tr>\n",
       "      <th>5390</th>\n",
       "      <td>7691</td>\n",
       "      <td>panic</td>\n",
       "      <td></td>\n",
       "      <td>panic  just had a panic attack bc I don't have...</td>\n",
       "      <td>0</td>\n",
       "    </tr>\n",
       "    <tr>\n",
       "      <th>860</th>\n",
       "      <td>1242</td>\n",
       "      <td>blood</td>\n",
       "      <td></td>\n",
       "      <td>blood  Omron HEM-712C Automatic Blood Pressure...</td>\n",
       "      <td>0</td>\n",
       "    </tr>\n",
       "    <tr>\n",
       "      <th>7603</th>\n",
       "      <td>10862</td>\n",
       "      <td></td>\n",
       "      <td></td>\n",
       "      <td>Officials say a quarantine is in place at an...</td>\n",
       "      <td>1</td>\n",
       "    </tr>\n",
       "    <tr>\n",
       "      <th>7270</th>\n",
       "      <td>10409</td>\n",
       "      <td>whirlwind</td>\n",
       "      <td>Stamford &amp; Cork (&amp; Shropshire)</td>\n",
       "      <td>whirlwind Stamford &amp; Cork (&amp; Shropshire) I mov...</td>\n",
       "      <td>1</td>\n",
       "    </tr>\n",
       "  </tbody>\n",
       "</table>\n",
       "<p>5329 rows × 5 columns</p>\n",
       "</div>"
      ],
      "text/plain": [
       "         id            keyword                        location  \\\n",
       "1186   1707  bridge%20collapse                                   \n",
       "4071   5789               hail          Carol Stream, Illinois   \n",
       "5461   7789             police                        Houston    \n",
       "5787   8257            rioting                                   \n",
       "7445  10656             wounds                  Lake Highlands   \n",
       "...     ...                ...                             ...   \n",
       "5226   7470       obliteration                         Merica!   \n",
       "5390   7691              panic                                   \n",
       "860    1242              blood                                   \n",
       "7603  10862                                                      \n",
       "7270  10409          whirlwind  Stamford & Cork (& Shropshire)   \n",
       "\n",
       "                                                   text  target  \n",
       "1186  bridge%20collapse  Ashes 2015: AustraliaÛªs c...       0  \n",
       "4071  hail Carol Stream, Illinois GREAT MICHIGAN TEC...       1  \n",
       "5461  police Houston  CNN: Tennessee movie theater s...       1  \n",
       "5787  rioting  Still rioting in a couple of hours le...       1  \n",
       "7445  wounds Lake Highlands Crack in the path where ...       0  \n",
       "...                                                 ...     ...  \n",
       "5226  obliteration Merica! @Eganator2000 There aren'...       0  \n",
       "5390  panic  just had a panic attack bc I don't have...       0  \n",
       "860   blood  Omron HEM-712C Automatic Blood Pressure...       0  \n",
       "7603    Officials say a quarantine is in place at an...       1  \n",
       "7270  whirlwind Stamford & Cork (& Shropshire) I mov...       1  \n",
       "\n",
       "[5329 rows x 5 columns]"
      ]
     },
     "execution_count": 18,
     "metadata": {},
     "output_type": "execute_result"
    }
   ],
   "source": [
    "train['text'] = train['keyword'] + ' ' + train['location'] + ' ' + train['text']\n",
    "train"
   ]
  },
  {
   "cell_type": "code",
   "execution_count": 19,
   "metadata": {},
   "outputs": [
    {
     "data": {
      "text/html": [
       "<div>\n",
       "<style scoped>\n",
       "    .dataframe tbody tr th:only-of-type {\n",
       "        vertical-align: middle;\n",
       "    }\n",
       "\n",
       "    .dataframe tbody tr th {\n",
       "        vertical-align: top;\n",
       "    }\n",
       "\n",
       "    .dataframe thead th {\n",
       "        text-align: right;\n",
       "    }\n",
       "</style>\n",
       "<table border=\"1\" class=\"dataframe\">\n",
       "  <thead>\n",
       "    <tr style=\"text-align: right;\">\n",
       "      <th></th>\n",
       "      <th>text</th>\n",
       "      <th>target</th>\n",
       "    </tr>\n",
       "  </thead>\n",
       "  <tbody>\n",
       "    <tr>\n",
       "      <th>1186</th>\n",
       "      <td>bridge%20collapse  Ashes 2015: AustraliaÛªs c...</td>\n",
       "      <td>0</td>\n",
       "    </tr>\n",
       "    <tr>\n",
       "      <th>4071</th>\n",
       "      <td>hail Carol Stream, Illinois GREAT MICHIGAN TEC...</td>\n",
       "      <td>1</td>\n",
       "    </tr>\n",
       "    <tr>\n",
       "      <th>5461</th>\n",
       "      <td>police Houston  CNN: Tennessee movie theater s...</td>\n",
       "      <td>1</td>\n",
       "    </tr>\n",
       "    <tr>\n",
       "      <th>5787</th>\n",
       "      <td>rioting  Still rioting in a couple of hours le...</td>\n",
       "      <td>1</td>\n",
       "    </tr>\n",
       "    <tr>\n",
       "      <th>7445</th>\n",
       "      <td>wounds Lake Highlands Crack in the path where ...</td>\n",
       "      <td>0</td>\n",
       "    </tr>\n",
       "  </tbody>\n",
       "</table>\n",
       "</div>"
      ],
      "text/plain": [
       "                                                   text  target\n",
       "1186  bridge%20collapse  Ashes 2015: AustraliaÛªs c...       0\n",
       "4071  hail Carol Stream, Illinois GREAT MICHIGAN TEC...       1\n",
       "5461  police Houston  CNN: Tennessee movie theater s...       1\n",
       "5787  rioting  Still rioting in a couple of hours le...       1\n",
       "7445  wounds Lake Highlands Crack in the path where ...       0"
      ]
     },
     "execution_count": 19,
     "metadata": {},
     "output_type": "execute_result"
    }
   ],
   "source": [
    "train.drop(['id', 'keyword', 'location'], axis = 1, inplace=True)\n",
    "train.head()"
   ]
  },
  {
   "cell_type": "code",
   "execution_count": 20,
   "metadata": {},
   "outputs": [
    {
     "data": {
      "text/html": [
       "<div>\n",
       "<style scoped>\n",
       "    .dataframe tbody tr th:only-of-type {\n",
       "        vertical-align: middle;\n",
       "    }\n",
       "\n",
       "    .dataframe tbody tr th {\n",
       "        vertical-align: top;\n",
       "    }\n",
       "\n",
       "    .dataframe thead th {\n",
       "        text-align: right;\n",
       "    }\n",
       "</style>\n",
       "<table border=\"1\" class=\"dataframe\">\n",
       "  <thead>\n",
       "    <tr style=\"text-align: right;\">\n",
       "      <th></th>\n",
       "      <th>text</th>\n",
       "      <th>target</th>\n",
       "    </tr>\n",
       "  </thead>\n",
       "  <tbody>\n",
       "    <tr>\n",
       "      <th>6590</th>\n",
       "      <td>survivors Marietta, GA Stemming from my #Cubs ...</td>\n",
       "      <td>1</td>\n",
       "    </tr>\n",
       "    <tr>\n",
       "      <th>7122</th>\n",
       "      <td>violent%20storm  If you were the NWS wth a rot...</td>\n",
       "      <td>1</td>\n",
       "    </tr>\n",
       "    <tr>\n",
       "      <th>2769</th>\n",
       "      <td>devastation Atlanta g.a. http://t.co/Gxgm1T3W0...</td>\n",
       "      <td>0</td>\n",
       "    </tr>\n",
       "  </tbody>\n",
       "</table>\n",
       "</div>"
      ],
      "text/plain": [
       "                                                   text  target\n",
       "6590  survivors Marietta, GA Stemming from my #Cubs ...       1\n",
       "7122  violent%20storm  If you were the NWS wth a rot...       1\n",
       "2769  devastation Atlanta g.a. http://t.co/Gxgm1T3W0...       0"
      ]
     },
     "execution_count": 20,
     "metadata": {},
     "output_type": "execute_result"
    }
   ],
   "source": [
    "train.loc[[6590, 7122, 2769]]"
   ]
  },
  {
   "cell_type": "code",
   "execution_count": 21,
   "metadata": {},
   "outputs": [
    {
     "data": {
      "text/html": [
       "<div>\n",
       "<style scoped>\n",
       "    .dataframe tbody tr th:only-of-type {\n",
       "        vertical-align: middle;\n",
       "    }\n",
       "\n",
       "    .dataframe tbody tr th {\n",
       "        vertical-align: top;\n",
       "    }\n",
       "\n",
       "    .dataframe thead th {\n",
       "        text-align: right;\n",
       "    }\n",
       "</style>\n",
       "<table border=\"1\" class=\"dataframe\">\n",
       "  <thead>\n",
       "    <tr style=\"text-align: right;\">\n",
       "      <th></th>\n",
       "      <th>id</th>\n",
       "      <th>keyword</th>\n",
       "      <th>location</th>\n",
       "      <th>text</th>\n",
       "      <th>target</th>\n",
       "    </tr>\n",
       "  </thead>\n",
       "  <tbody>\n",
       "    <tr>\n",
       "      <th>2644</th>\n",
       "      <td>3796</td>\n",
       "      <td>destruction</td>\n",
       "      <td></td>\n",
       "      <td>destruction  So you have a new weapon that can...</td>\n",
       "      <td>1</td>\n",
       "    </tr>\n",
       "    <tr>\n",
       "      <th>2227</th>\n",
       "      <td>3185</td>\n",
       "      <td>deluge</td>\n",
       "      <td></td>\n",
       "      <td>deluge  The f$&amp;amp;@ing things I do for #GISHW...</td>\n",
       "      <td>0</td>\n",
       "    </tr>\n",
       "    <tr>\n",
       "      <th>5448</th>\n",
       "      <td>7769</td>\n",
       "      <td>police</td>\n",
       "      <td>UK</td>\n",
       "      <td>police UK DT @georgegalloway: RT @Galloway4May...</td>\n",
       "      <td>1</td>\n",
       "    </tr>\n",
       "    <tr>\n",
       "      <th>132</th>\n",
       "      <td>191</td>\n",
       "      <td>aftershock</td>\n",
       "      <td></td>\n",
       "      <td>aftershock  Aftershock back to school kick off...</td>\n",
       "      <td>0</td>\n",
       "    </tr>\n",
       "    <tr>\n",
       "      <th>6845</th>\n",
       "      <td>9810</td>\n",
       "      <td>trauma</td>\n",
       "      <td>Montgomery County, MD</td>\n",
       "      <td>trauma Montgomery County, MD in response to tr...</td>\n",
       "      <td>0</td>\n",
       "    </tr>\n",
       "    <tr>\n",
       "      <th>...</th>\n",
       "      <td>...</td>\n",
       "      <td>...</td>\n",
       "      <td>...</td>\n",
       "      <td>...</td>\n",
       "      <td>...</td>\n",
       "    </tr>\n",
       "    <tr>\n",
       "      <th>4307</th>\n",
       "      <td>6115</td>\n",
       "      <td>hellfire</td>\n",
       "      <td>570 Vanderbilt; Brooklyn, NY</td>\n",
       "      <td>hellfire 570 Vanderbilt; Brooklyn, NY New cock...</td>\n",
       "      <td>0</td>\n",
       "    </tr>\n",
       "    <tr>\n",
       "      <th>3375</th>\n",
       "      <td>4833</td>\n",
       "      <td>evacuation</td>\n",
       "      <td>USA</td>\n",
       "      <td>evacuation USA Bend Post Office roofers cut ga...</td>\n",
       "      <td>1</td>\n",
       "    </tr>\n",
       "    <tr>\n",
       "      <th>1710</th>\n",
       "      <td>2466</td>\n",
       "      <td>collided</td>\n",
       "      <td></td>\n",
       "      <td>collided  Monsoon flooding - Monsoon rains hav...</td>\n",
       "      <td>1</td>\n",
       "    </tr>\n",
       "    <tr>\n",
       "      <th>4898</th>\n",
       "      <td>6973</td>\n",
       "      <td>massacre</td>\n",
       "      <td>Ireland</td>\n",
       "      <td>massacre Ireland Remember this was a massacre ...</td>\n",
       "      <td>1</td>\n",
       "    </tr>\n",
       "    <tr>\n",
       "      <th>6753</th>\n",
       "      <td>9674</td>\n",
       "      <td>tornado</td>\n",
       "      <td>Asheville, NC</td>\n",
       "      <td>tornado Asheville, NC I liked a @YouTube video...</td>\n",
       "      <td>1</td>\n",
       "    </tr>\n",
       "  </tbody>\n",
       "</table>\n",
       "<p>2284 rows × 5 columns</p>\n",
       "</div>"
      ],
      "text/plain": [
       "        id      keyword                      location  \\\n",
       "2644  3796  destruction                                 \n",
       "2227  3185       deluge                                 \n",
       "5448  7769       police                            UK   \n",
       "132    191   aftershock                                 \n",
       "6845  9810       trauma         Montgomery County, MD   \n",
       "...    ...          ...                           ...   \n",
       "4307  6115     hellfire  570 Vanderbilt; Brooklyn, NY   \n",
       "3375  4833   evacuation                           USA   \n",
       "1710  2466     collided                                 \n",
       "4898  6973     massacre                       Ireland   \n",
       "6753  9674      tornado                 Asheville, NC   \n",
       "\n",
       "                                                   text  target  \n",
       "2644  destruction  So you have a new weapon that can...       1  \n",
       "2227  deluge  The f$&amp;@ing things I do for #GISHW...       0  \n",
       "5448  police UK DT @georgegalloway: RT @Galloway4May...       1  \n",
       "132   aftershock  Aftershock back to school kick off...       0  \n",
       "6845  trauma Montgomery County, MD in response to tr...       0  \n",
       "...                                                 ...     ...  \n",
       "4307  hellfire 570 Vanderbilt; Brooklyn, NY New cock...       0  \n",
       "3375  evacuation USA Bend Post Office roofers cut ga...       1  \n",
       "1710  collided  Monsoon flooding - Monsoon rains hav...       1  \n",
       "4898  massacre Ireland Remember this was a massacre ...       1  \n",
       "6753  tornado Asheville, NC I liked a @YouTube video...       1  \n",
       "\n",
       "[2284 rows x 5 columns]"
      ]
     },
     "execution_count": 21,
     "metadata": {},
     "output_type": "execute_result"
    }
   ],
   "source": [
    "test['text'] = test['keyword'] + ' ' + test['location'] + ' ' + test['text']\n",
    "test"
   ]
  },
  {
   "cell_type": "code",
   "execution_count": 22,
   "metadata": {},
   "outputs": [
    {
     "data": {
      "text/html": [
       "<div>\n",
       "<style scoped>\n",
       "    .dataframe tbody tr th:only-of-type {\n",
       "        vertical-align: middle;\n",
       "    }\n",
       "\n",
       "    .dataframe tbody tr th {\n",
       "        vertical-align: top;\n",
       "    }\n",
       "\n",
       "    .dataframe thead th {\n",
       "        text-align: right;\n",
       "    }\n",
       "</style>\n",
       "<table border=\"1\" class=\"dataframe\">\n",
       "  <thead>\n",
       "    <tr style=\"text-align: right;\">\n",
       "      <th></th>\n",
       "      <th>text</th>\n",
       "      <th>target</th>\n",
       "    </tr>\n",
       "  </thead>\n",
       "  <tbody>\n",
       "    <tr>\n",
       "      <th>2644</th>\n",
       "      <td>destruction  So you have a new weapon that can...</td>\n",
       "      <td>1</td>\n",
       "    </tr>\n",
       "    <tr>\n",
       "      <th>2227</th>\n",
       "      <td>deluge  The f$&amp;amp;@ing things I do for #GISHW...</td>\n",
       "      <td>0</td>\n",
       "    </tr>\n",
       "    <tr>\n",
       "      <th>5448</th>\n",
       "      <td>police UK DT @georgegalloway: RT @Galloway4May...</td>\n",
       "      <td>1</td>\n",
       "    </tr>\n",
       "    <tr>\n",
       "      <th>132</th>\n",
       "      <td>aftershock  Aftershock back to school kick off...</td>\n",
       "      <td>0</td>\n",
       "    </tr>\n",
       "    <tr>\n",
       "      <th>6845</th>\n",
       "      <td>trauma Montgomery County, MD in response to tr...</td>\n",
       "      <td>0</td>\n",
       "    </tr>\n",
       "  </tbody>\n",
       "</table>\n",
       "</div>"
      ],
      "text/plain": [
       "                                                   text  target\n",
       "2644  destruction  So you have a new weapon that can...       1\n",
       "2227  deluge  The f$&amp;@ing things I do for #GISHW...       0\n",
       "5448  police UK DT @georgegalloway: RT @Galloway4May...       1\n",
       "132   aftershock  Aftershock back to school kick off...       0\n",
       "6845  trauma Montgomery County, MD in response to tr...       0"
      ]
     },
     "execution_count": 22,
     "metadata": {},
     "output_type": "execute_result"
    }
   ],
   "source": [
    "test.drop(['id', 'keyword', 'location'], axis = 1, inplace=True)\n",
    "test.head()"
   ]
  },
  {
   "cell_type": "markdown",
   "metadata": {
    "id": "ViXdGTxP3HvM"
   },
   "source": [
    "## Задание 4 (0.5 балла)\n",
    "\n",
    "Далее мы будем пока работать только с train частью.\n",
    "\n",
    "1. Предобработайте данные (train часть) с помощью CountVectorizer.\n",
    "2. Какого размера получилась матрица?\n"
   ]
  },
  {
   "cell_type": "code",
   "execution_count": 23,
   "metadata": {
    "id": "oB1MTqUVAbPA"
   },
   "outputs": [],
   "source": [
    "from sklearn.feature_extraction.text import CountVectorizer\n",
    "\n",
    "cnt_vec = CountVectorizer(token_pattern = '[a-zA-Z0-9$&+,:;=?@#|<>.^*()%!-]+')\n",
    "X = cnt_vec.fit_transform(train['text'])"
   ]
  },
  {
   "cell_type": "code",
   "execution_count": 24,
   "metadata": {},
   "outputs": [
    {
     "data": {
      "text/plain": [
       "(5329, 22796)"
      ]
     },
     "execution_count": 24,
     "metadata": {},
     "output_type": "execute_result"
    }
   ],
   "source": [
    "X.shape"
   ]
  },
  {
   "cell_type": "markdown",
   "metadata": {
    "id": "A4waLlnC3HvM"
   },
   "source": [
    "## Задание 5 (1 балл)\n",
    "\n",
    "В предыдущем пункте у вас должна была получиться достаточно большая матрица.\n",
    "Если вы взгляните на текст, то увидете, что там есть множество специальных символов, ссылок и прочего мусора.\n",
    "\n",
    "Давайте также посмотрим на словарь, который получился в результате построения CountVectorizer, его можно найти в поле vocabulary_ инстанса этого класса. Давайте напишем функцию, которая печает ответы на следующие вопросы:\n",
    "\n",
    "1. Найдите в этом словаре все слова, которые содержат цифры. Сколько таких слов нашлось?\n",
    "\n",
    "2. Найдите все слова, которые содержат символы пунктуации. Сколько таких слов нашлось? \n",
    "\n",
    "3. Сколько хэштегов (токен начинается на #) и упоминаний (токен начинается на @) осталось в словаре?"
   ]
  },
  {
   "cell_type": "code",
   "execution_count": 25,
   "metadata": {
    "id": "7PhQSWqcHhU8"
   },
   "outputs": [],
   "source": [
    "def contains_digit(s: str) -> bool:\n",
    "    # Проверка, содержит ли слово цифры\n",
    "    for i in s:\n",
    "        if i.isdigit():\n",
    "            return True\n",
    "    return False\n",
    "\n",
    "def contains_punctuation(s: str) -> bool:\n",
    "    for i in s:\n",
    "        if i in punctuation:\n",
    "            return True\n",
    "    return False\n",
    "\n",
    "def is_hashtag(s: str) -> bool:\n",
    "    # Проверка, является ли слово хэштегом\n",
    "    return s.startswith('#') and len(s) > 1\n",
    "\n",
    "def is_mention(s: str) -> bool:\n",
    "    # Проверка, является ли слово упоминанием\n",
    "    return s.startswith('@') and len(s) > 1\n",
    "\n",
    "def investigate_vocabulary(vocabulary):\n",
    "    d = 0\n",
    "    p = 0\n",
    "    h = 0\n",
    "    m = 0\n",
    "    for word in vocabulary:\n",
    "        if contains_digit(word):\n",
    "            d += 1\n",
    "        if contains_punctuation(word):\n",
    "            p += 1\n",
    "        if is_hashtag(word):\n",
    "            h += 1\n",
    "        if is_mention(word):\n",
    "            m += 1\n",
    "        \n",
    "    print('With digit:      ', d\n",
    "          )\n",
    "    print('With punctuation:', p\n",
    "          )\n",
    "    print('Hashtags:        ', h\n",
    "          )\n",
    "    print('Mentions:        ', m\n",
    "          )\n",
    "\n",
    "\n"
   ]
  },
  {
   "cell_type": "code",
   "execution_count": 26,
   "metadata": {
    "colab": {
     "base_uri": "https://localhost:8080/"
    },
    "id": "s8hL5ZcQIdp6",
    "outputId": "c8b50455-38f2-455d-c9f6-96b03a7e09ce"
   },
   "outputs": [
    {
     "name": "stdout",
     "output_type": "stream",
     "text": [
      "With digit:       2\n",
      "With punctuation: 7\n",
      "Hashtags:         1\n",
      "Mentions:         3\n"
     ]
    }
   ],
   "source": [
    "dummy_vocab = {'th1nk' : 0,\n",
    "               'think333' : 1,\n",
    "               'think.' : 2,\n",
    "               'th!nk' : 3,\n",
    "               'th...nk' : 4,\n",
    "               '#think' : 5,\n",
    "               '@think' : 6,\n",
    "               '@thinking':7,\n",
    "               '@nothink' : 8,\n",
    "               'think' : 9}\n",
    "investigate_vocabulary(dummy_vocab)"
   ]
  },
  {
   "cell_type": "code",
   "execution_count": 27,
   "metadata": {},
   "outputs": [
    {
     "data": {
      "text/plain": [
       "{'bridge%20collapse': 6637,\n",
       " 'ashes': 5596,\n",
       " '2015:': 2231,\n",
       " 'australia': 5729,\n",
       " 's': 18269,\n",
       " 'collapse': 7659,\n",
       " 'at': 5639,\n",
       " 'trent': 20746,\n",
       " 'bridge': 6636,\n",
       " 'among': 5281,\n",
       " 'worst': 22192,\n",
       " 'in': 12332,\n",
       " 'history:': 11786,\n",
       " 'england': 9567,\n",
       " 'bundled': 6790,\n",
       " 'out': 16064,\n",
       " 'for': 10448,\n",
       " '60': 2693,\n",
       " '...': 1803,\n",
       " 'http:': 12001,\n",
       " 't.co': 19987,\n",
       " 't5trhjuau0': 19998,\n",
       " 'hail': 11370,\n",
       " 'carol': 7092,\n",
       " 'stream,': 19641,\n",
       " 'illinois': 12268,\n",
       " 'great': 11149,\n",
       " 'michigan': 14612,\n",
       " 'technique': 20147,\n",
       " 'camp': 6987,\n",
       " 'b1g': 5827,\n",
       " 'thanks': 20274,\n",
       " 'to': 20518,\n",
       " '@bmurph1019': 3370,\n",
       " '@hail': 3780,\n",
       " 'youtsey': 22604,\n",
       " '.': 1801,\n",
       " '@termn8r13': 4568,\n",
       " '#goblue': 539,\n",
       " '#wrestleon': 1468,\n",
       " 'oaskgki6qj': 15691,\n",
       " 'police': 16764,\n",
       " 'houston': 11968,\n",
       " 'cnn:': 7597,\n",
       " 'tennessee': 20187,\n",
       " 'movie': 14980,\n",
       " 'theater': 20291,\n",
       " 'shooting': 18833,\n",
       " 'suspect': 19893,\n",
       " 'killed': 13226,\n",
       " 'by': 6870,\n",
       " 'di8elzswnr': 8724,\n",
       " 'rioting': 17986,\n",
       " 'still': 19574,\n",
       " 'a': 4782,\n",
       " 'couple': 7986,\n",
       " 'of': 15759,\n",
       " 'hours': 11957,\n",
       " 'left': 13614,\n",
       " 'until': 21168,\n",
       " 'i': 12116,\n",
       " 'have': 11509,\n",
       " 'be': 6053,\n",
       " 'up': 21179,\n",
       " 'class.': 7518,\n",
       " 'wounds': 22204,\n",
       " 'lake': 13456,\n",
       " 'highlands': 11720,\n",
       " 'crack': 8028,\n",
       " 'the': 20287,\n",
       " 'path': 16328,\n",
       " 'where': 21938,\n",
       " 'wiped': 22050,\n",
       " 'this': 20353,\n",
       " 'morning': 14917,\n",
       " 'during': 9185,\n",
       " 'beach': 6058,\n",
       " 'run.': 18231,\n",
       " 'surface': 19863,\n",
       " 'on': 15892,\n",
       " 'elbow': 9410,\n",
       " 'and': 5301,\n",
       " 'right': 17966,\n",
       " 'knee.': 13292,\n",
       " 'yaqrsximph': 22468,\n",
       " 'airplane%20accident': 5097,\n",
       " 'somewhere': 19231,\n",
       " 'there': 20316,\n",
       " 'experts': 9861,\n",
       " 'france': 10547,\n",
       " 'begin': 6115,\n",
       " 'examining': 9799,\n",
       " 'airplane': 5096,\n",
       " 'debris': 8444,\n",
       " 'found': 10512,\n",
       " 'reunion': 17887,\n",
       " 'island:': 12664,\n",
       " 'french': 10587,\n",
       " 'air': 5087,\n",
       " 'accident': 4878,\n",
       " 'on...': 15897,\n",
       " 'tagzbcxfj0': 20021,\n",
       " '#mlb': 814,\n",
       " 'bloody': 6401,\n",
       " 'isolated': 12672,\n",
       " 'city': 7482,\n",
       " 'world': 22169,\n",
       " 'perth': 16479,\n",
       " 'came': 6982,\n",
       " 'kill': 13223,\n",
       " 'indians...for': 12393,\n",
       " 'fun': 10673,\n",
       " ':': 3069,\n",
       " 'video': 21471,\n",
       " 'smirking': 19120,\n",
       " 'remorseless': 17742,\n",
       " 'pakistani': 16217,\n",
       " 'killer': 13227,\n",
       " 'shows': 18874,\n",
       " 'him': 11750,\n",
       " 'boasting.': 6442,\n",
       " 'fpjlwoxklg': 10530,\n",
       " 'burning': 6809,\n",
       " '@johnsontionne': 3934,\n",
       " 'except': 9804,\n",
       " 'idk': 12199,\n",
       " 'them??': 20303,\n",
       " 'it': 12685,\n",
       " 'really': 17572,\n",
       " '??????': 3119,\n",
       " 'destroy': 8650,\n",
       " 'he': 11546,\n",
       " 'or': 15992,\n",
       " 'she': 18777,\n",
       " 'her': 11650,\n",
       " '(ask)': 1592,\n",
       " 'house': 11959,\n",
       " 'wounded': 22202,\n",
       " 'maracay': 14276,\n",
       " 'y': 22434,\n",
       " 'nirgua,': 15402,\n",
       " 'venezuela': 21407,\n",
       " 'officer': 15781,\n",
       " 'dead': 8415,\n",
       " 'after': 5026,\n",
       " 'exchanging': 9809,\n",
       " 'shots': 18851,\n",
       " 'xxfk4khbiw': 22420,\n",
       " 'wreck': 22231,\n",
       " '?currently': 3148,\n",
       " 'writing': 22248,\n",
       " 'book?': 6493,\n",
       " 'm': 14094,\n",
       " 'friggin': 10617,\n",
       " 'destiel': 8645,\n",
       " 'sucks': 19758,\n",
       " '(read': 1670,\n",
       " 'vine': 21495,\n",
       " 'description)': 8618,\n",
       " 'https:': 12002,\n",
       " 'mkx6ux4ozt': 14790,\n",
       " 'mudslide': 15035,\n",
       " 'malibu': 14222,\n",
       " 'santafe': 18398,\n",
       " 'winning!': 22043,\n",
       " 'sterling-scott': 19559,\n",
       " 'red': 17630,\n",
       " 'carpet': 7096,\n",
       " 'fundraiser': 10678,\n",
       " 'oso': 16039,\n",
       " 'ma4ra7atql': 14146,\n",
       " 'cg579wldne': 7253,\n",
       " 'casualties': 7138,\n",
       " 'canadian': 7013,\n",
       " 'bread': 6608,\n",
       " '@libertarianluke': 4046,\n",
       " 'all': 5173,\n",
       " 'that': 20277,\n",
       " 'honest.': 11878,\n",
       " 'if': 12207,\n",
       " 'people': 16432,\n",
       " 'want': 21689,\n",
       " 'go': 11025,\n",
       " 'rampage': 17464,\n",
       " 'let': 13666,\n",
       " 'them': 20299,\n",
       " 'use': 21254,\n",
       " 'their': 20296,\n",
       " 'own': 16132,\n",
       " 'hands': 11427,\n",
       " 'feet.': 10135,\n",
       " 'no': 15442,\n",
       " 'casualties.': 7140,\n",
       " 'ambulance': 5256,\n",
       " 'amsterdam': 5285,\n",
       " '7xglah10zl': 2869,\n",
       " 'twelve': 20909,\n",
       " 'feared': 10111,\n",
       " 'helicopter': 11620,\n",
       " 'crash': 8042,\n",
       " 'thmblaatzp': 20359,\n",
       " 'electrocuted': 9425,\n",
       " 'got': 11088,\n",
       " 'last': 13518,\n",
       " 'night': 15387,\n",
       " 'work': 22153,\n",
       " 'first': 10277,\n",
       " 'time': 20453,\n",
       " 'my': 15112,\n",
       " 'life....': 13725,\n",
       " 'shit': 18814,\n",
       " 'was': 21725,\n",
       " 'weird': 21864,\n",
       " '????': 3117,\n",
       " 'drown': 9111,\n",
       " 'some': 19214,\n",
       " 'older': 15864,\n",
       " 'native': 15216,\n",
       " 'australians': 5735,\n",
       " 'believe': 6143,\n",
       " 'oceans': 15736,\n",
       " 'were': 21885,\n",
       " 'created': 8067,\n",
       " 'from': 10623,\n",
       " 'urine': 21228,\n",
       " 'an': 5288,\n",
       " 'angry': 5325,\n",
       " 'god': 11038,\n",
       " 'who': 21963,\n",
       " 'tried': 20762,\n",
       " 'world.': 22171,\n",
       " 'volcano': 21563,\n",
       " 'west': 21890,\n",
       " 'coast,': 7615,\n",
       " 'cali': 6951,\n",
       " 'usa': 21244,\n",
       " 'architect': 5494,\n",
       " 'behind': 6128,\n",
       " 'kanye': 13092,\n",
       " 'musbik7ejf': 15076,\n",
       " 'attack': 5664,\n",
       " 'mumbai': 15060,\n",
       " 'india': 12380,\n",
       " 'shud': 18880,\n",
       " 'not': 15509,\n",
       " 'give': 10962,\n",
       " 'any': 5387,\n",
       " 'evidence': 9781,\n",
       " '2': 2188,\n",
       " 'pak.they': 16213,\n",
       " 'will': 21998,\n",
       " 'share': 18762,\n",
       " 'with': 22065,\n",
       " 'terrorists': 20221,\n",
       " '&amp;': 1524,\n",
       " 'next': 15346,\n",
       " 'attack.share': 5667,\n",
       " 'oth': 16046,\n",
       " 'contries': 7890,\n",
       " 'qiopbtiuvu': 17270,\n",
       " 'body%20bag': 6454,\n",
       " 'new': 15322,\n",
       " 'york': 22572,\n",
       " 'auth': 5737,\n",
       " 'louis': 13981,\n",
       " 'vuitton': 21596,\n",
       " 'brown': 6699,\n",
       " 'saumur': 18430,\n",
       " '35': 2407,\n",
       " 'cross': 8108,\n",
       " 'body': 6452,\n",
       " 'shoulder': 18855,\n",
       " 'bag': 5878,\n",
       " 'monogram': 14867,\n",
       " '7.23': 2792,\n",
       " '419-3': 2513,\n",
       " '-': 1764,\n",
       " 'full': 10669,\n",
       " 'read': 17550,\n",
       " 'hcdiwe5flc': 11539,\n",
       " 'zlvebeoavg': 22733,\n",
       " 'annihilated': 5343,\n",
       " 'higher': 11716,\n",
       " 'places': 16641,\n",
       " 'episode': 9631,\n",
       " 'trunks': 20819,\n",
       " 'freiza': 10585,\n",
       " 'is': 12638,\n",
       " 'cleanest': 7524,\n",
       " 'ever.': 9758,\n",
       " 'showed': 18870,\n",
       " 'nigga': 15382,\n",
       " 'mercy.': 14530,\n",
       " 'cyclone': 8239,\n",
       " 'hyderabad': 12104,\n",
       " '@roughdeal1': 4406,\n",
       " 'ante': 5365,\n",
       " 'hudhud': 12007,\n",
       " 'chandrababu': 7284,\n",
       " 'valle': 21338,\n",
       " 'ne': 15261,\n",
       " 'ga?': 10756,\n",
       " '65': 2716,\n",
       " '@zhenghxn': 4778,\n",
       " '11': 1992,\n",
       " 'eyes': 9914,\n",
       " 'akame': 5115,\n",
       " 'ga': 10753,\n",
       " 'tokyo': 20547,\n",
       " 'ghoul': 10927,\n",
       " 'damn': 8315,\n",
       " 'dont': 8995,\n",
       " 'dare': 8346,\n",
       " 'watch????????': 21748,\n",
       " 'suicide%20bombing': 19779,\n",
       " 'principality': 16989,\n",
       " 'zeron': 22704,\n",
       " '@rayquazaerk': 4361,\n",
       " 'are': 5496,\n",
       " 'christian': 7440,\n",
       " 'sure': 19856,\n",
       " 'but': 6843,\n",
       " 'don': 8984,\n",
       " 't': 19978,\n",
       " 'suicide': 19776,\n",
       " 'bombing': 6479,\n",
       " 'employed': 9508,\n",
       " 'often': 15801,\n",
       " 'as': 5581,\n",
       " 'islamic': 12660,\n",
       " 'groups.': 11198,\n",
       " 'demolished': 8547,\n",
       " '@jackmulholland1': 3885,\n",
       " 'think': 20342,\n",
       " 'also': 5224,\n",
       " 'became': 6087,\n",
       " 'marquis!': 14313,\n",
       " 'then': 20307,\n",
       " 'carlos': 7086,\n",
       " 'charlie': 7316,\n",
       " 'finally': 10227,\n",
       " 'dublin': 9142,\n",
       " 's.': 18273,\n",
       " 'sadly': 18319,\n",
       " 'demolished.': 8548,\n",
       " 'inundated': 12567,\n",
       " 'surf!': 19862,\n",
       " 'hi': 11701,\n",
       " 'waimea': 21645,\n",
       " 'bay.': 6026,\n",
       " 'like': 13748,\n",
       " 'ever': 9757,\n",
       " 'surfers': 19864,\n",
       " 'czdw8oowa2': 8252,\n",
       " 'collision': 7682,\n",
       " 'denver,': 8574,\n",
       " 'colorado': 7696,\n",
       " 'motorcyclist': 14955,\n",
       " 'bicyclist': 6233,\n",
       " 'injured': 12451,\n",
       " 'denver': 8573,\n",
       " 'broadway': 6677,\n",
       " 'zl7ojdaj3u': 22729,\n",
       " 'flames': 10317,\n",
       " 'around': 5544,\n",
       " 'you': 22580,\n",
       " 'maryland': 14324,\n",
       " 'mansion': 14267,\n",
       " 'fire': 10250,\n",
       " '6': 2688,\n",
       " 'caused': 7169,\n",
       " 'damaged': 8307,\n",
       " 'plug': 16715,\n",
       " 'under': 21093,\n",
       " 'christmas': 7444,\n",
       " 'tree': 20732,\n",
       " 'report': 17777,\n",
       " 'says': 18443,\n",
       " 'into': 12560,\n",
       " 'flames...': 10320,\n",
       " 'lkjfabqzb3': 13851,\n",
       " 'demolish': 8545,\n",
       " 'nyhc': 15648,\n",
       " 'going': 11047,\n",
       " 'drake': 9048,\n",
       " 'over': 16101,\n",
       " 'ghostwriting': 10926,\n",
       " 'should': 18854,\n",
       " 'know': 13309,\n",
       " 'rihanna': 17974,\n",
       " 'lives': 13831,\n",
       " 'door.': 8997,\n",
       " 'buildings%20burning': 6765,\n",
       " 'blue!': 6418,\n",
       " 'yes!!': 22514,\n",
       " '@1acd4900c1424d1': 3164,\n",
       " '@foxnews': 3711,\n",
       " 'one': 15906,\n",
       " 'down': 9017,\n",
       " 'buildings': 6763,\n",
       " 'looting.': 13950,\n",
       " 'forest%20fires': 10474,\n",
       " 'nicola': 15371,\n",
       " 'valley': 21339,\n",
       " 'forest': 10472,\n",
       " 'fires': 10268,\n",
       " 'dying': 9212,\n",
       " 'salmon:': 18357,\n",
       " 'act': 4919,\n",
       " 'deny.': 8576,\n",
       " 'climate': 7553,\n",
       " 'change': 7285,\n",
       " 'nightmares': 15392,\n",
       " 'here': 11655,\n",
       " 'rbzomwgjee': 17522,\n",
       " '#bcpoli': 172,\n",
       " '#canpoli': 249,\n",
       " '#vanpoli': 1396,\n",
       " 'ns1aggfnxz': 15569,\n",
       " '#shoes': 1168,\n",
       " 'asics': 5607,\n",
       " 'gt-ii': 11219,\n",
       " 'super': 19828,\n",
       " '2.0': 2196,\n",
       " 'ronnie': 18114,\n",
       " 'fieg': 10193,\n",
       " 'kith': 13265,\n",
       " 'white': 21958,\n",
       " '3m': 2457,\n",
       " 'x': 22309,\n",
       " 'gel': 10861,\n",
       " 'grey': 11173,\n",
       " 'od250zshfy': 15739,\n",
       " 'sandstorm': 18389,\n",
       " 'watch': 21745,\n",
       " 'airport': 5099,\n",
       " 'get': 10901,\n",
       " 'swallowed': 19904,\n",
       " 'minute': 14726,\n",
       " 'wd9odwjj9l': 21801,\n",
       " 'buildings%20on%20fire': 6766,\n",
       " 'uk': 21054,\n",
       " '#tweetlikeitsseptember11th2001': 1361,\n",
       " 'those': 20367,\n",
       " 'two': 20924,\n",
       " 'oil%20spill': 15826,\n",
       " 'york,': 22573,\n",
       " 'ny': 15632,\n",
       " 'california': 6956,\n",
       " 'oil': 15825,\n",
       " 'spill': 19359,\n",
       " 'might': 14644,\n",
       " 'larger': 13511,\n",
       " 'than': 20266,\n",
       " 'projected:': 17040,\n",
       " 'xwxbyhtuzc': 22419,\n",
       " 'wzedxefblg': 22308,\n",
       " 'cartoon': 7109,\n",
       " 'bears.': 6067,\n",
       " 'without': 22073,\n",
       " 'we': 21804,\n",
       " 'would': 22196,\n",
       " 'qave': 17244,\n",
       " 'knowlddge': 13315,\n",
       " 'toilet': 20545,\n",
       " 'paper.': 16261,\n",
       " 'drought': 9105,\n",
       " 'miami': 14603,\n",
       " '@': 3160,\n",
       " 'gaabyx': 10757,\n",
       " 'purple': 17185,\n",
       " 'activist': 4933,\n",
       " 'thought': 20372,\n",
       " 'injuries': 12456,\n",
       " 'madison,': 14172,\n",
       " 'wi': 21975,\n",
       " '&': 1523,\n",
       " 'st.': 19454,\n",
       " 'mo': 14806,\n",
       " '@buffoonmike': 3399,\n",
       " 'knew': 13295,\n",
       " 'doing': 8965,\n",
       " 'much': 15029,\n",
       " 'bite': 6298,\n",
       " 'us': 21233,\n",
       " 'influenced': 12433,\n",
       " 'shitty': 18821,\n",
       " 'staff': 19464,\n",
       " 'acquisitions': 4912,\n",
       " 'landslide': 13488,\n",
       " 'austin,': 5727,\n",
       " 'texas': 20236,\n",
       " '@toddstarnes': 4626,\n",
       " 'enjoy': 9575,\n",
       " 'impending': 12308,\n",
       " 'todd.': 20536,\n",
       " 'hehe.': 11607,\n",
       " 'apocalypse': 5422,\n",
       " 'oregon,': 16006,\n",
       " 'look': 13930,\n",
       " 'grizzly': 11185,\n",
       " 'peak': 16399,\n",
       " 'now...': 15546,\n",
       " 'looks': 13937,\n",
       " 'beginning': 6117,\n",
       " 'dystopian': 9216,\n",
       " 'detonation': 8671,\n",
       " 'ignition': 12223,\n",
       " 'knock': 13304,\n",
       " '(detonation)': 1612,\n",
       " 'sensor-senso': 18649,\n",
       " 'standard': 19479,\n",
       " 'ks100': 13362,\n",
       " '7o4lnfbe7k': 2860,\n",
       " 'fvzsgjtbew': 10703,\n",
       " 'first%20responders': 10278,\n",
       " 'week': 21849,\n",
       " 'responders': 17840,\n",
       " 'dart': 8356,\n",
       " 'members': 14502,\n",
       " 'participating': 16298,\n",
       " 'four': 10518,\n",
       " 'day': 8378,\n",
       " 'intensive': 12529,\n",
       " 'technical': 20145,\n",
       " 'large': 13510,\n",
       " 'animal...': 5329,\n",
       " 'tl93aod3er': 20498,\n",
       " 'military': 14660,\n",
       " 'lot': 13969,\n",
       " '20': 2204,\n",
       " 'tom': 20554,\n",
       " 'clancy': 7512,\n",
       " 'mystery': 15128,\n",
       " 'novels': 15540,\n",
       " 'paperback': 16262,\n",
       " 'obix79ncxn': 15699,\n",
       " '#tomclancy': 1312,\n",
       " 'drowning': 9115,\n",
       " 'coventry': 8000,\n",
       " 'why': 21973,\n",
       " 'low': 13994,\n",
       " 'self-image?': 18621,\n",
       " 'take': 20034,\n",
       " 'quiz:': 17347,\n",
       " 'z8r6r3nbtb': 22672,\n",
       " 'namffldh5h': 15183,\n",
       " 'gonna': 11062,\n",
       " 'fight': 10202,\n",
       " 'taylor': 20099,\n",
       " 'soon': 19251,\n",
       " 'there.': 20318,\n",
       " 'danger': 8332,\n",
       " 'hailing': 11377,\n",
       " 'dayton': 8393,\n",
       " 'wish': 22061,\n",
       " 'could': 7973,\n",
       " 'victoria': 21459,\n",
       " 'secret': 18575,\n",
       " 'front.': 10625,\n",
       " 'good': 11063,\n",
       " 'it.': 12687,\n",
       " 'flood': 10363,\n",
       " 'spot': 19388,\n",
       " 'combo': 7713,\n",
       " '53inch': 2618,\n",
       " '300w': 2383,\n",
       " 'curved': 8207,\n",
       " 'cree': 8076,\n",
       " 'led': 13605,\n",
       " 'light': 13734,\n",
       " 'bar': 5946,\n",
       " '4x4': 2584,\n",
       " 'offroad': 15796,\n",
       " 'fog': 10411,\n",
       " 'lamp': 13465,\n",
       " 're': 17532,\n",
       " 'o097vsotxk': 15662,\n",
       " 'i23xy7iejj': 12132,\n",
       " 'severe': 18711,\n",
       " 'weather': 21825,\n",
       " 'bulletin': 6777,\n",
       " 'no.': 15446,\n",
       " '5': 2594,\n",
       " 'for:': 10451,\n",
       " 'typhoon': 20952,\n",
       " '#hannaph': 575,\n",
       " '(soudelor)': 1681,\n",
       " 'tropical': 20792,\n",
       " 'cyclone:': 8241,\n",
       " 'warning': 21707,\n",
       " 'issued': 12679,\n",
       " '5:00': 2640,\n",
       " 'pm': 16722,\n",
       " '06...': 1875,\n",
       " 'thhjjw51pe': 20332,\n",
       " 'fits': 10288,\n",
       " '01-06': 1857,\n",
       " 'bmw': 6430,\n",
       " '325ci': 2399,\n",
       " '2.5l-l6': 2202,\n",
       " 'gbvdnczjou': 10846,\n",
       " 'c211hise0r': 6893,\n",
       " 'explosion': 9879,\n",
       " 'london,': 13914,\n",
       " 'united': 21134,\n",
       " 'kingdom': 13249,\n",
       " '10': 1956,\n",
       " 'chemical': 7351,\n",
       " 'park': 16283,\n",
       " 'western': 21896,\n",
       " 'germany...': 10897,\n",
       " 'xbznu0qkvs': 22345,\n",
       " 'bomb': 6469,\n",
       " 'soul': 19274,\n",
       " 'food': 10431,\n",
       " 'sound': 19278,\n",
       " 'so': 19165,\n",
       " 'now': 15542,\n",
       " 'terrorism': 20214,\n",
       " 'truth...': 20826,\n",
       " 'bejftygjil': 6136,\n",
       " '#news': 873,\n",
       " '#bbc': 167,\n",
       " '#cnn': 293,\n",
       " '#islam': 671,\n",
       " '#truth': 1347,\n",
       " '#god': 540,\n",
       " '#isis': 670,\n",
       " '#terrorism': 1274,\n",
       " '#quran': 1055,\n",
       " '#lies': 749,\n",
       " 'jlczidz7vu': 12899,\n",
       " 'sinking': 18970,\n",
       " 'michigan,': 14613,\n",
       " 'your': 22596,\n",
       " 'lost': 13967,\n",
       " 'alone': 5206,\n",
       " 'stone': 19593,\n",
       " 'carry': 7102,\n",
       " 'hostage': 11934,\n",
       " 'chicago': 7370,\n",
       " '@mylittlepwnies3': 4204,\n",
       " '@early': 3639,\n",
       " 'may': 14387,\n",
       " '@anathemazhiv': 3241,\n",
       " '@tonysandos': 4637,\n",
       " 'which': 21944,\n",
       " 'has': 11483,\n",
       " 'do': 8936,\n",
       " 'lebanon': 13601,\n",
       " '80s': 2890,\n",
       " 'iran': 12616,\n",
       " 'crisis': 8099,\n",
       " 'libya': 13708,\n",
       " 'pan': 16233,\n",
       " 'am': 5240,\n",
       " 'us,': 21234,\n",
       " 'pa': 16176,\n",
       " 'pulls': 17149,\n",
       " 'gun': 11256,\n",
       " 'man': 14233,\n",
       " 'apparent': 5436,\n",
       " 'provocation': 17100,\n",
       " '(video)': 1701,\n",
       " 'lhw4vtbhzg': 13697,\n",
       " 'via': 21447,\n",
       " '@dailykos': 3535,\n",
       " 'derailment': 8600,\n",
       " 'minneapolis,mn,us': 14716,\n",
       " 'train': 20681,\n",
       " 'derailment:': 8603,\n",
       " 'patna': 16340,\n",
       " 'news': 15334,\n",
       " 'casualty': 7142,\n",
       " 'far': 10030,\n",
       " 'indian': 12387,\n",
       " 'express': 9890,\n",
       " 'yh5vetm0yz': 22534,\n",
       " '17wgug8z0m': 2088,\n",
       " 'panic': 16248,\n",
       " '#dream': 378,\n",
       " '#magic': 780,\n",
       " '#linden': 752,\n",
       " 'method': 14560,\n",
       " 'lite': 13806,\n",
       " 'version': 21424,\n",
       " '#1': 12,\n",
       " 'anxiety': 5386,\n",
       " 'cure': 8194,\n",
       " 'program:': 17031,\n",
       " '073izwx0lb': 1881,\n",
       " 'lind': 13771,\n",
       " 'okmlagvkjv': 15852,\n",
       " 'rescued': 17804,\n",
       " 'jammu': 12787,\n",
       " '|': 22787,\n",
       " 'kashmir': 13102,\n",
       " 'delhi': 8514,\n",
       " '18': 2089,\n",
       " 'bovines': 6542,\n",
       " '3': 2364,\n",
       " 'smugglers': 19134,\n",
       " 'nabbed': 15162,\n",
       " 'e7fn5g5ruu': 9240,\n",
       " 'fredericksburg,': 10567,\n",
       " 'virginia': 21511,\n",
       " '.@wwp': 1842,\n",
       " 'serving': 18694,\n",
       " 'more': 14901,\n",
       " '75k': 2818,\n",
       " 'veterans.': 21432,\n",
       " '52k': 2613,\n",
       " 'oif': 15824,\n",
       " 'oef': 15753,\n",
       " 'vets': 21433,\n",
       " 'physical': 16553,\n",
       " 'wounds;': 22206,\n",
       " 'many': 14270,\n",
       " 'invisible': 12585,\n",
       " 'ones': 15913,\n",
       " 'shhlv4dplz': 18796,\n",
       " '#client': 290,\n",
       " 'dust%20storm': 9188,\n",
       " 'learned': 13590,\n",
       " 'about': 4848,\n",
       " 'economics': 9314,\n",
       " 'south': 19288,\n",
       " 'dakota': 8290,\n",
       " 'dust': 9187,\n",
       " 'storm': 19606,\n",
       " 'did': 8741,\n",
       " 'years': 22491,\n",
       " 'college.': 7673,\n",
       " '-hubert': 1787,\n",
       " 'humphrey': 12040,\n",
       " 'wrecked': 22237,\n",
       " 'cramer:': 8035,\n",
       " 'iger': 12215,\n",
       " 'words': 22152,\n",
       " 'disney': 8855,\n",
       " 'stock': 19583,\n",
       " 'sf5jdnvdw9': 18724,\n",
       " '#til': 1306,\n",
       " '#cnbc': 292,\n",
       " 'tring': 20769,\n",
       " '@marc': 4101,\n",
       " 'holl': 11840,\n",
       " '@nennicook': 4223,\n",
       " '@aitchkaycee': 3212,\n",
       " '@vixstuart': 4696,\n",
       " '@benjbeckwith': 3339,\n",
       " 'pretty': 16967,\n",
       " '??#disaster': 3109,\n",
       " '#gbbo': 516,\n",
       " '#mudslide': 835,\n",
       " 'obliteration': 15711,\n",
       " 'canada': 7009,\n",
       " 'need': 15280,\n",
       " 'arcade': 5493,\n",
       " 'shooter': 18832,\n",
       " 'fix': 10293,\n",
       " 'cte': 8160,\n",
       " 'empty': 9512,\n",
       " 'only': 15924,\n",
       " 'running': 18236,\n",
       " 'obliteration.': 15713,\n",
       " 'd': 8257,\n",
       " 'even': 9747,\n",
       " 'buy': 6858,\n",
       " 'cod': 7632,\n",
       " 'title': 20486,\n",
       " 'they': 20329,\n",
       " 'weren': 21887,\n",
       " 'overpriced': 16116,\n",
       " 'steam': 19543,\n",
       " 'bioterrorism': 6273,\n",
       " 'firepower': 10267,\n",
       " 'lab': 13434,\n",
       " 'electronic': 9430,\n",
       " 'resource': 17830,\n",
       " 'automation': 5747,\n",
       " 'against': 5041,\n",
       " 'infectious': 12424,\n",
       " 'diseases': 8845,\n",
       " 'kvpbybglsr': 13386,\n",
       " '@graysondolan': 3765,\n",
       " 'u': 20969,\n",
       " 'me': 14427,\n",
       " '??': 3107,\n",
       " 'explode': 9868,\n",
       " 'washington,': 21735,\n",
       " 'd.c.': 8264,\n",
       " 'kendall': 13148,\n",
       " 'jenner': 12847,\n",
       " 'nick': 15369,\n",
       " 'jonas': 12941,\n",
       " 'dating': 8367,\n",
       " 'quite': 17344,\n",
       " 'literally': 13807,\n",
       " 'pfvzvpxqgr': 16503,\n",
       " 'always': 5237,\n",
       " 'tell': 20167,\n",
       " 'mom': 14842,\n",
       " 'bring': 6653,\n",
       " 'hold': 11830,\n",
       " 'cat': 7143,\n",
       " 'hostage??': 11940,\n",
       " 'heat%20wave': 11591,\n",
       " 'fort': 10498,\n",
       " 'worth,': 22195,\n",
       " 'rt': 18194,\n",
       " '@startelegram:': 4509,\n",
       " 'homeless': 11863,\n",
       " 'vulnerable': 21599,\n",
       " 'north': 15492,\n",
       " 'heat': 11590,\n",
       " 'wave': 21766,\n",
       " 'k9airfq3ql': 13064,\n",
       " 'jdbtlymehy': 12833,\n",
       " 'nuclear%20reactor': 15585,\n",
       " 'co': 7601,\n",
       " 'nuclear': 15583,\n",
       " '#solar': 1199,\n",
       " 'power': 16864,\n",
       " '#japanese': 684,\n",
       " '#fukushima': 497,\n",
       " 'reactor': 17545,\n",
       " 'energy': 9557,\n",
       " 'japan': 12801,\n",
       " 'temperature': 20179,\n",
       " 'fuel': 10661,\n",
       " 'pool': 16788,\n",
       " 'ys3nmwwyvc': 22630,\n",
       " 'alpotnb7q3': 5214,\n",
       " 'arvada,': 5578,\n",
       " 'broadway:': 6678,\n",
       " 'least': 13593,\n",
       " 'taken': 20037,\n",
       " 'local': 13887,\n",
       " 'wlmsq3mtho': 22089,\n",
       " 'trauma': 20710,\n",
       " 'nashville,': 15206,\n",
       " 'tn': 20514,\n",
       " 'esteemed': 9696,\n",
       " 'journalist': 12956,\n",
       " 'recalls': 17596,\n",
       " 'tragic': 20675,\n",
       " 'effects': 9368,\n",
       " 'unaddressed': 21076,\n",
       " '#childhood': 278,\n",
       " '#trauma.': 1327,\n",
       " '@keithboykin': 3980,\n",
       " '@randallpinkston': 4353,\n",
       " '@pozarmy': 4320,\n",
       " 'gxq1auzb18': 11303,\n",
       " 'panicking': 16251,\n",
       " 'feel': 10126,\n",
       " 'results': 17867,\n",
       " 'back': 5854,\n",
       " 'week...': 21852,\n",
       " 'alarmingly': 5141,\n",
       " 'calm': 6971,\n",
       " 'lightning': 13742,\n",
       " 'thunder': 20417,\n",
       " 'possible': 16829,\n",
       " 'pinpoint': 16594,\n",
       " 'foothill': 10447,\n",
       " 'forecast.': 10465,\n",
       " 'ctijdpxabk': 8163,\n",
       " 'displaced': 8865,\n",
       " '40': 2494,\n",
       " 'ocean': 15735,\n",
       " 'township': 20639,\n",
       " 'apartment': 5412,\n",
       " '#newyork': 879,\n",
       " 'uelz59wvom': 21029,\n",
       " 'massacre': 14341,\n",
       " 'stay': 19530,\n",
       " 'tuned': 20870,\n",
       " ';)': 3089,\n",
       " '@freddiedeboer': 3717,\n",
       " '@thucydiplease': 4609,\n",
       " 'rise': 18001,\n",
       " 'coates': 7622,\n",
       " 'charleston': 7313,\n",
       " 'walter': 21678,\n",
       " 'scott': 18507,\n",
       " 'black': 6322,\n",
       " 'twitter': 20921,\n",
       " 'broadly': 6675,\n",
       " 'well.': 21875,\n",
       " 'deaths': 8439,\n",
       " 'gallifrey': 10781,\n",
       " '@mathew': 4116,\n",
       " '@z3ke': 4769,\n",
       " 'sk1': 19010,\n",
       " '@saladinahmed': 4424,\n",
       " 'died': 8751,\n",
       " 'horrible': 11916,\n",
       " 'trapped': 20706,\n",
       " 'ships': 18809,\n",
       " 'risk.': 18006,\n",
       " 'burning%20buildings': 6810,\n",
       " 'whiterun,': 21959,\n",
       " 'skyrim': 19045,\n",
       " 'destruction': 8657,\n",
       " 'magic': 14182,\n",
       " 'fine': 10234,\n",
       " 'just': 13017,\n",
       " 'buildings.': 6767,\n",
       " 'windstorm': 22028,\n",
       " 'palm': 16226,\n",
       " 'county,': 7984,\n",
       " 'fl': 10309,\n",
       " 'reality': 17565,\n",
       " 'training:': 20686,\n",
       " 'falls': 9993,\n",
       " 'off': 15769,\n",
       " 'elevated': 9438,\n",
       " 'tracks': 20660,\n",
       " 'jiomnrcygt': 12889,\n",
       " '#paramedic': 977,\n",
       " '#ems': 413,\n",
       " 'rescuers': 17807,\n",
       " '#world': 1460,\n",
       " 'fears': 10113,\n",
       " 'missing': 14751,\n",
       " 'migrants': 14648,\n",
       " 'med:': 14458,\n",
       " 'search': 18553,\n",
       " 'survivors': 19888,\n",
       " 'boat': 6443,\n",
       " 'carrying': 7104,\n",
       " 'a...': 4789,\n",
       " '6ds67xai5e': 2747,\n",
       " 'derailed': 8597,\n",
       " 'toronto': 20595,\n",
       " 'benchmark': 6163,\n",
       " 'cool': 7907,\n",
       " 'paths.': 16333,\n",
       " 'wonder': 22130,\n",
       " 'can': 7006,\n",
       " 'run': 18228,\n",
       " 'find': 10231,\n",
       " 'leaks': 13588,\n",
       " 'jobs': 12916,\n",
       " 'given': 10964,\n",
       " 'resque': 17851,\n",
       " 'too?': 20575,\n",
       " 'ladies': 13443,\n",
       " 'tote': 20612,\n",
       " 'handbag': 11421,\n",
       " 'women': 22122,\n",
       " 'faux': 10071,\n",
       " 'leather': 13595,\n",
       " 'fashion': 10043,\n",
       " 'purse': 17189,\n",
       " 'y87gi3brlv': 22451,\n",
       " '1zbhvdcxzs': 2187,\n",
       " '@raishimi33': 4352,\n",
       " ':)': 3071,\n",
       " 'well': 21872,\n",
       " 'sounds': 19281,\n",
       " 'plan': 16649,\n",
       " 'little': 13812,\n",
       " 'applaud': 5443,\n",
       " 'catastrophic': 7151,\n",
       " 'buxton,': 6857,\n",
       " 'venice,': 21410,\n",
       " 'nottingham': 15531,\n",
       " 'invading': 12572,\n",
       " 'iraq': 12619,\n",
       " 'mistake': 14761,\n",
       " 'diplomacy': 8791,\n",
       " 'needs': 15288,\n",
       " 'replace': 17772,\n",
       " 'constant': 7861,\n",
       " 'threat': 20383,\n",
       " 'war': 21694,\n",
       " 'israel:': 12675,\n",
       " 'yqjpn3quux': 22619,\n",
       " 'related': 17700,\n",
       " 'news:': 15339,\n",
       " 'isis': 12652,\n",
       " 'threatens': 20386,\n",
       " 'europe': 9727,\n",
       " 'cnn': 7596,\n",
       " 'wk6b5z803o': 22085,\n",
       " 'livingston,': 13837,\n",
       " 'mt': 15020,\n",
       " '@marynmck': 4114,\n",
       " 'beyond': 6209,\n",
       " 'adorable.': 4971,\n",
       " 'hope': 11901,\n",
       " 'won': 22128,\n",
       " 'been': 6104,\n",
       " 'noticed': 15522,\n",
       " 'devastation': 8682,\n",
       " 'mount': 14959,\n",
       " ...}"
      ]
     },
     "execution_count": 27,
     "metadata": {},
     "output_type": "execute_result"
    }
   ],
   "source": [
    "cnt_vec.vocabulary_ "
   ]
  },
  {
   "cell_type": "code",
   "execution_count": 28,
   "metadata": {
    "id": "VpW8R_SuKR_l"
   },
   "outputs": [
    {
     "name": "stdout",
     "output_type": "stream",
     "text": [
      "With digit:       4095\n",
      "With punctuation: 8403\n",
      "Hashtags:         1490\n",
      "Mentions:         1618\n"
     ]
    }
   ],
   "source": [
    "investigate_vocabulary(cnt_vec.vocabulary_ )"
   ]
  },
  {
   "cell_type": "markdown",
   "metadata": {
    "id": "bfNLaxX93HvM"
   },
   "source": [
    "## Задание 6 (0.5 балла)\n",
    "\n",
    "Вспомним, что на семинаре по текстам мы узнали, что в nltk есть специальный токенизатор для текстов - TweetTokenizer. Попробуем применить CountVectorizer с этим токенизатором. Ответьте на все вопросы из предыдущего пункта для TweetTokenizer и сравните результаты."
   ]
  },
  {
   "cell_type": "code",
   "execution_count": 29,
   "metadata": {
    "id": "xnlRoXUS3HvM"
   },
   "outputs": [],
   "source": [
    "from nltk.tokenize import TweetTokenizer\n",
    "# Чтобы узнать, какие параметры есть у этого токенайзера - используйте help(TweetTokenizer)\n",
    "# Для того, чтобы передать токенайзер в CountVectorizer используйте параметр tokenizer"
   ]
  },
  {
   "cell_type": "code",
   "execution_count": 30,
   "metadata": {
    "id": "8lPMIf6UKccT"
   },
   "outputs": [],
   "source": [
    "tw = TweetTokenizer()\n",
    "v = CountVectorizer(tokenizer=tw.tokenize)\n",
    "Xnew = v.fit_transform(train['text'])"
   ]
  },
  {
   "cell_type": "code",
   "execution_count": 31,
   "metadata": {
    "id": "7oR5kNKVLLpm"
   },
   "outputs": [
    {
     "name": "stdout",
     "output_type": "stream",
     "text": [
      "With digit:       3939\n",
      "With punctuation: 7338\n",
      "Hashtags:         1469\n",
      "Mentions:         1678\n"
     ]
    }
   ],
   "source": [
    "investigate_vocabulary(v.vocabulary_)"
   ]
  },
  {
   "cell_type": "raw",
   "metadata": {},
   "source": [
    "v.vocabulary_"
   ]
  },
  {
   "cell_type": "markdown",
   "metadata": {
    "id": "Wetr80-ILULV"
   },
   "source": [
    "**Сравнение:** Видим, что новый токенайзер начал замечать больше.\n",
    "- Так, например, слов с пунктуацией стало в 2 раза больше, чем было.\n",
    "- Остальные значения также немного прибавилось\n",
    "\n",
    "Технология другая, полноценно начал считывать ссылки, некоторые слова, наоборот, начал разделять."
   ]
  },
  {
   "cell_type": "markdown",
   "metadata": {
    "id": "6_k_-i1x3HvM"
   },
   "source": [
    "## Задание 7 (2 балла)\n",
    "\n",
    "В scikit-learn мы можем оценивать процесс подсчета матрицы через CountVectorizer. У CountVectorizer, как и у других наследников \\_VectorizerMixin, есть аргумент tokenizer и preprocessor. preprocessor применится в самом начале к каждой строке вашего датасета, tokenizer же должен принять строку и вернуть токены.\n",
    "Давайте напишем кастомный токенайзер, которые сделает все, что нам нужно: \n",
    "\n",
    "0. Приведет все буквы к нижнему регистру\n",
    "1. Разобьет текст на токены с помощью TweetTokenizer из пакета nltk\n",
    "2. Удалит все токены содержащие не латинские буквы, кроме смайликов (будем считать ими токены содержащие только пунктуацию и, как минимум, одну скобочку) и хэштегов, которые после начальной # содержат только латинские буквы.\n",
    "3. Удалит все токены, которые перечислены в nltk.corpus.stopwords.words('english')\n",
    "4. Проведет стемминг с помощью SnowballStemmer\n",
    "\n"
   ]
  },
  {
   "cell_type": "code",
   "execution_count": 32,
   "metadata": {},
   "outputs": [
    {
     "name": "stderr",
     "output_type": "stream",
     "text": [
      "[nltk_data] Downloading package stopwords to\n",
      "[nltk_data]     /Users/vadimkuznetsov/nltk_data...\n",
      "[nltk_data]   Package stopwords is already up-to-date!\n"
     ]
    },
    {
     "data": {
      "text/plain": [
       "True"
      ]
     },
     "execution_count": 32,
     "metadata": {},
     "output_type": "execute_result"
    }
   ],
   "source": [
    "import nltk\n",
    "nltk.download('stopwords')"
   ]
  },
  {
   "cell_type": "code",
   "execution_count": 33,
   "metadata": {},
   "outputs": [
    {
     "data": {
      "text/plain": [
       "['i',\n",
       " 'me',\n",
       " 'my',\n",
       " 'myself',\n",
       " 'we',\n",
       " 'our',\n",
       " 'ours',\n",
       " 'ourselves',\n",
       " 'you',\n",
       " \"you're\",\n",
       " \"you've\",\n",
       " \"you'll\",\n",
       " \"you'd\",\n",
       " 'your',\n",
       " 'yours',\n",
       " 'yourself',\n",
       " 'yourselves',\n",
       " 'he',\n",
       " 'him',\n",
       " 'his',\n",
       " 'himself',\n",
       " 'she',\n",
       " \"she's\",\n",
       " 'her',\n",
       " 'hers',\n",
       " 'herself',\n",
       " 'it',\n",
       " \"it's\",\n",
       " 'its',\n",
       " 'itself',\n",
       " 'they',\n",
       " 'them',\n",
       " 'their',\n",
       " 'theirs',\n",
       " 'themselves',\n",
       " 'what',\n",
       " 'which',\n",
       " 'who',\n",
       " 'whom',\n",
       " 'this',\n",
       " 'that',\n",
       " \"that'll\",\n",
       " 'these',\n",
       " 'those',\n",
       " 'am',\n",
       " 'is',\n",
       " 'are',\n",
       " 'was',\n",
       " 'were',\n",
       " 'be',\n",
       " 'been',\n",
       " 'being',\n",
       " 'have',\n",
       " 'has',\n",
       " 'had',\n",
       " 'having',\n",
       " 'do',\n",
       " 'does',\n",
       " 'did',\n",
       " 'doing',\n",
       " 'a',\n",
       " 'an',\n",
       " 'the',\n",
       " 'and',\n",
       " 'but',\n",
       " 'if',\n",
       " 'or',\n",
       " 'because',\n",
       " 'as',\n",
       " 'until',\n",
       " 'while',\n",
       " 'of',\n",
       " 'at',\n",
       " 'by',\n",
       " 'for',\n",
       " 'with',\n",
       " 'about',\n",
       " 'against',\n",
       " 'between',\n",
       " 'into',\n",
       " 'through',\n",
       " 'during',\n",
       " 'before',\n",
       " 'after',\n",
       " 'above',\n",
       " 'below',\n",
       " 'to',\n",
       " 'from',\n",
       " 'up',\n",
       " 'down',\n",
       " 'in',\n",
       " 'out',\n",
       " 'on',\n",
       " 'off',\n",
       " 'over',\n",
       " 'under',\n",
       " 'again',\n",
       " 'further',\n",
       " 'then',\n",
       " 'once',\n",
       " 'here',\n",
       " 'there',\n",
       " 'when',\n",
       " 'where',\n",
       " 'why',\n",
       " 'how',\n",
       " 'all',\n",
       " 'any',\n",
       " 'both',\n",
       " 'each',\n",
       " 'few',\n",
       " 'more',\n",
       " 'most',\n",
       " 'other',\n",
       " 'some',\n",
       " 'such',\n",
       " 'no',\n",
       " 'nor',\n",
       " 'not',\n",
       " 'only',\n",
       " 'own',\n",
       " 'same',\n",
       " 'so',\n",
       " 'than',\n",
       " 'too',\n",
       " 'very',\n",
       " 's',\n",
       " 't',\n",
       " 'can',\n",
       " 'will',\n",
       " 'just',\n",
       " 'don',\n",
       " \"don't\",\n",
       " 'should',\n",
       " \"should've\",\n",
       " 'now',\n",
       " 'd',\n",
       " 'll',\n",
       " 'm',\n",
       " 'o',\n",
       " 're',\n",
       " 've',\n",
       " 'y',\n",
       " 'ain',\n",
       " 'aren',\n",
       " \"aren't\",\n",
       " 'couldn',\n",
       " \"couldn't\",\n",
       " 'didn',\n",
       " \"didn't\",\n",
       " 'doesn',\n",
       " \"doesn't\",\n",
       " 'hadn',\n",
       " \"hadn't\",\n",
       " 'hasn',\n",
       " \"hasn't\",\n",
       " 'haven',\n",
       " \"haven't\",\n",
       " 'isn',\n",
       " \"isn't\",\n",
       " 'ma',\n",
       " 'mightn',\n",
       " \"mightn't\",\n",
       " 'mustn',\n",
       " \"mustn't\",\n",
       " 'needn',\n",
       " \"needn't\",\n",
       " 'shan',\n",
       " \"shan't\",\n",
       " 'shouldn',\n",
       " \"shouldn't\",\n",
       " 'wasn',\n",
       " \"wasn't\",\n",
       " 'weren',\n",
       " \"weren't\",\n",
       " 'won',\n",
       " \"won't\",\n",
       " 'wouldn',\n",
       " \"wouldn't\"]"
      ]
     },
     "execution_count": 33,
     "metadata": {},
     "output_type": "execute_result"
    }
   ],
   "source": [
    "from nltk.corpus import stopwords\n",
    "from nltk.stem.snowball import SnowballStemmer\n",
    "stopwords.words('english')"
   ]
  },
  {
   "cell_type": "code",
   "execution_count": 34,
   "metadata": {
    "id": "qhwmi7DEMD25"
   },
   "outputs": [],
   "source": [
    "def contains_only_latin_letters(s: str) -> bool:\n",
    "    # Проверка, содержит ли слово только латинские буквы\n",
    "    return all(char.isalpha() and char.isascii() for char in s)\n",
    "\n",
    "def is_emoji(s: str) -> bool:\n",
    "    return contains_punctuation(s) and ('(' in s or ')' in s)\n",
    "\n",
    "def is_hashtag(s: str) -> bool:\n",
    "    return s.startswith('#') and len(s) > 1 and contains_only_latin_letters(s[1:])\n",
    "\n",
    "def custom_tokenizer(s: str) -> List[str]:    \n",
    "    s = s.lower()\n",
    "    l = TweetTokenizer().tokenize(s)\n",
    "    ar = []\n",
    "    for i in l:\n",
    "        if (contains_only_latin_letters(i) or is_emoji(i) or is_hashtag(i)) and i not in stopwords.words('english'):\n",
    "            ar.append(i)\n",
    "    stemmer = SnowballStemmer('english')\n",
    "    return [stemmer.stem(i) for i in ar]\n",
    "    \n",
    "    "
   ]
  },
  {
   "cell_type": "code",
   "execution_count": 35,
   "metadata": {},
   "outputs": [
    {
     "data": {
      "text/plain": [
       "['love', 'paint', ':-)', '#art']"
      ]
     },
     "execution_count": 35,
     "metadata": {},
     "output_type": "execute_result"
    }
   ],
   "source": [
    "custom_tokenizer('She LOVES painting :-) #art')"
   ]
  },
  {
   "cell_type": "markdown",
   "metadata": {
    "id": "2S_-ThAf5It4"
   },
   "source": [
    "Продемонстрируйте работу вашей функции на первых десяти текстах в обучающей выборке."
   ]
  },
  {
   "cell_type": "code",
   "execution_count": 37,
   "metadata": {
    "id": "A1fh3_itPz7D"
   },
   "outputs": [
    {
     "data": {
      "text/html": [
       "<div>\n",
       "<style scoped>\n",
       "    .dataframe tbody tr th:only-of-type {\n",
       "        vertical-align: middle;\n",
       "    }\n",
       "\n",
       "    .dataframe tbody tr th {\n",
       "        vertical-align: top;\n",
       "    }\n",
       "\n",
       "    .dataframe thead th {\n",
       "        text-align: right;\n",
       "    }\n",
       "</style>\n",
       "<table border=\"1\" class=\"dataframe\">\n",
       "  <thead>\n",
       "    <tr style=\"text-align: right;\">\n",
       "      <th></th>\n",
       "      <th>text</th>\n",
       "      <th>target</th>\n",
       "    </tr>\n",
       "  </thead>\n",
       "  <tbody>\n",
       "    <tr>\n",
       "      <th>1186</th>\n",
       "      <td>bridge%20collapse  Ashes 2015: AustraliaÛªs c...</td>\n",
       "      <td>0</td>\n",
       "    </tr>\n",
       "    <tr>\n",
       "      <th>4071</th>\n",
       "      <td>hail Carol Stream, Illinois GREAT MICHIGAN TEC...</td>\n",
       "      <td>1</td>\n",
       "    </tr>\n",
       "    <tr>\n",
       "      <th>5461</th>\n",
       "      <td>police Houston  CNN: Tennessee movie theater s...</td>\n",
       "      <td>1</td>\n",
       "    </tr>\n",
       "    <tr>\n",
       "      <th>5787</th>\n",
       "      <td>rioting  Still rioting in a couple of hours le...</td>\n",
       "      <td>1</td>\n",
       "    </tr>\n",
       "    <tr>\n",
       "      <th>7445</th>\n",
       "      <td>wounds Lake Highlands Crack in the path where ...</td>\n",
       "      <td>0</td>\n",
       "    </tr>\n",
       "    <tr>\n",
       "      <th>151</th>\n",
       "      <td>airplane%20accident Somewhere Out There Expert...</td>\n",
       "      <td>1</td>\n",
       "    </tr>\n",
       "    <tr>\n",
       "      <th>915</th>\n",
       "      <td>bloody Isolated City In World Perth 'I came to...</td>\n",
       "      <td>1</td>\n",
       "    </tr>\n",
       "    <tr>\n",
       "      <th>1305</th>\n",
       "      <td>burning  @JohnsonTionne except idk them?? it's...</td>\n",
       "      <td>0</td>\n",
       "    </tr>\n",
       "    <tr>\n",
       "      <th>2570</th>\n",
       "      <td>destroy he/him or she/her (ask) destroy the house</td>\n",
       "      <td>0</td>\n",
       "    </tr>\n",
       "    <tr>\n",
       "      <th>7399</th>\n",
       "      <td>wounded Maracay y Nirgua, Venezuela Police Off...</td>\n",
       "      <td>1</td>\n",
       "    </tr>\n",
       "  </tbody>\n",
       "</table>\n",
       "</div>"
      ],
      "text/plain": [
       "                                                   text  target\n",
       "1186  bridge%20collapse  Ashes 2015: AustraliaÛªs c...       0\n",
       "4071  hail Carol Stream, Illinois GREAT MICHIGAN TEC...       1\n",
       "5461  police Houston  CNN: Tennessee movie theater s...       1\n",
       "5787  rioting  Still rioting in a couple of hours le...       1\n",
       "7445  wounds Lake Highlands Crack in the path where ...       0\n",
       "151   airplane%20accident Somewhere Out There Expert...       1\n",
       "915   bloody Isolated City In World Perth 'I came to...       1\n",
       "1305  burning  @JohnsonTionne except idk them?? it's...       0\n",
       "2570  destroy he/him or she/her (ask) destroy the house       0\n",
       "7399  wounded Maracay y Nirgua, Venezuela Police Off...       1"
      ]
     },
     "execution_count": 37,
     "metadata": {},
     "output_type": "execute_result"
    }
   ],
   "source": [
    "train[:10]"
   ]
  },
  {
   "cell_type": "code",
   "execution_count": 38,
   "metadata": {},
   "outputs": [
    {
     "data": {
      "text/plain": [
       "{'bridg': 16,\n",
       " 'ash': 9,\n",
       " 'australia': 11,\n",
       " 'collaps': 25,\n",
       " 'trent': 87,\n",
       " 'among': 8,\n",
       " 'worst': 92,\n",
       " 'histori': 44,\n",
       " 'england': 32,\n",
       " 'bundl': 17,\n",
       " 'hail': 42,\n",
       " 'carol': 21,\n",
       " 'stream': 80,\n",
       " 'illinoi': 49,\n",
       " 'great': 41,\n",
       " 'michigan': 59,\n",
       " 'techniqu': 83,\n",
       " 'camp': 20,\n",
       " 'thank': 85,\n",
       " '#goblu': 0,\n",
       " '#wrestleon': 2,\n",
       " 'polic': 67,\n",
       " 'houston': 47,\n",
       " 'cnn': 24,\n",
       " 'tennesse': 84,\n",
       " 'movi': 61,\n",
       " 'theater': 86,\n",
       " 'shoot': 74,\n",
       " 'suspect': 82,\n",
       " 'kill': 53,\n",
       " 'riot': 72,\n",
       " 'still': 79,\n",
       " 'coupl': 26,\n",
       " 'hour': 45,\n",
       " 'left': 57,\n",
       " 'class': 23,\n",
       " 'wound': 93,\n",
       " 'lake': 56,\n",
       " 'highland': 43,\n",
       " 'crack': 27,\n",
       " 'path': 65,\n",
       " 'wipe': 90,\n",
       " 'morn': 60,\n",
       " 'beach': 12,\n",
       " 'run': 73,\n",
       " 'surfac': 81,\n",
       " 'elbow': 31,\n",
       " 'right': 71,\n",
       " 'knee': 55,\n",
       " 'airplan': 7,\n",
       " 'somewher': 78,\n",
       " 'expert': 36,\n",
       " 'franc': 38,\n",
       " 'begin': 13,\n",
       " 'examin': 33,\n",
       " 'debri': 29,\n",
       " 'found': 37,\n",
       " 'reunion': 70,\n",
       " 'island': 51,\n",
       " 'french': 39,\n",
       " 'air': 6,\n",
       " 'accid': 5,\n",
       " '#mlb': 1,\n",
       " 'bloodi': 14,\n",
       " 'isol': 52,\n",
       " 'citi': 22,\n",
       " 'world': 91,\n",
       " 'perth': 66,\n",
       " 'came': 19,\n",
       " 'indian': 50,\n",
       " 'fun': 40,\n",
       " 'video': 89,\n",
       " 'smirk': 77,\n",
       " 'remorseless': 69,\n",
       " 'pakistani': 64,\n",
       " 'killer': 54,\n",
       " 'show': 76,\n",
       " 'boast': 15,\n",
       " 'burn': 18,\n",
       " 'except': 34,\n",
       " 'idk': 48,\n",
       " 'realli': 68,\n",
       " 'destroy': 30,\n",
       " '(': 3,\n",
       " 'ask': 10,\n",
       " ')': 4,\n",
       " 'hous': 46,\n",
       " 'maracay': 58,\n",
       " 'nirgua': 62,\n",
       " 'venezuela': 88,\n",
       " 'offic': 63,\n",
       " 'dead': 28,\n",
       " 'exchang': 35,\n",
       " 'shot': 75}"
      ]
     },
     "execution_count": 38,
     "metadata": {},
     "output_type": "execute_result"
    }
   ],
   "source": [
    "cv3 = CountVectorizer(tokenizer=custom_tokenizer)\n",
    "texts = cv3.fit_transform(train[:10]['text'])\n",
    "cv3.vocabulary_"
   ]
  },
  {
   "cell_type": "markdown",
   "metadata": {
    "id": "a5lNZ4tb3HvN"
   },
   "source": [
    "## Задание 8 (1 балл)\n",
    "\n",
    "1. Примените CountVectorizer с реализованным выше токенизатором к обучающим и тестовым выборкам.\n"
   ]
  },
  {
   "cell_type": "code",
   "execution_count": 39,
   "metadata": {
    "id": "LDqixz7QQEbn"
   },
   "outputs": [],
   "source": [
    "vectorizer = CountVectorizer(tokenizer=custom_tokenizer)\n",
    "Xtrain = vectorizer.fit_transform(train['text'])\n",
    "Xtest = vectorizer.transform(test['text'])"
   ]
  },
  {
   "cell_type": "markdown",
   "metadata": {
    "id": "YcetwuEi5ds9"
   },
   "source": [
    "2. Обучите LogisticRegression на полученных признаках.\n"
   ]
  },
  {
   "cell_type": "code",
   "execution_count": 40,
   "metadata": {
    "id": "BVj03QV2QbWl"
   },
   "outputs": [],
   "source": [
    "from sklearn.linear_model import LogisticRegression\n",
    "lr = LogisticRegression(random_state=42)\n",
    "lr.fit(Xtrain, train['target'])\n",
    "yTest = lr.predict(Xtest)\n"
   ]
  },
  {
   "cell_type": "markdown",
   "metadata": {
    "id": "6Ch6uz2P5e-T"
   },
   "source": [
    "3. Посчитайте метрику f1-score на тестовых данных."
   ]
  },
  {
   "cell_type": "code",
   "execution_count": 41,
   "metadata": {
    "colab": {
     "base_uri": "https://localhost:8080/"
    },
    "id": "osyC0pdT3cSD",
    "outputId": "cd957d5f-5118-4b7f-d7ba-01bb5a524086"
   },
   "outputs": [
    {
     "data": {
      "text/plain": [
       "0.7533584094572812"
      ]
     },
     "execution_count": 41,
     "metadata": {},
     "output_type": "execute_result"
    }
   ],
   "source": [
    "from sklearn.metrics import f1_score\n",
    "\n",
    "f1_score(yTest, test['target'])"
   ]
  },
  {
   "cell_type": "markdown",
   "metadata": {
    "id": "aFIEYOMZ3HvN"
   },
   "source": [
    "## Задание 9 (1 балл)\n",
    "\n",
    "1. Повторите 8 задание, но с tf-idf векторизатором. Как изменилось качество?\n"
   ]
  },
  {
   "cell_type": "code",
   "execution_count": 43,
   "metadata": {
    "colab": {
     "base_uri": "https://localhost:8080/"
    },
    "id": "cDqs61hl3ve3",
    "outputId": "fdd72125-dfde-4183-d614-3b0bc9002ada"
   },
   "outputs": [
    {
     "data": {
      "text/plain": [
       "0.7426347971095053"
      ]
     },
     "execution_count": 43,
     "metadata": {},
     "output_type": "execute_result"
    }
   ],
   "source": [
    "from sklearn.feature_extraction.text import TfidfVectorizer\n",
    "\n",
    "vectorizer = TfidfVectorizer(tokenizer=custom_tokenizer)\n",
    "Xtrain = vectorizer.fit_transform(train['text'])\n",
    "Xtest = vectorizer.transform(test['text'])\n",
    "lr = LogisticRegression(random_state=42)\n",
    "lr.fit(Xtrain, train['target'])\n",
    "yTest = lr.predict(Xtest)\n",
    "f1_score(yTest, test['target'])"
   ]
  },
  {
   "cell_type": "markdown",
   "metadata": {
    "id": "SXaNclTZSFjO"
   },
   "source": [
    "1. **Ответ:** Качество ухудшилось относительно CountVectorizer"
   ]
  },
  {
   "cell_type": "markdown",
   "metadata": {
    "id": "CPtk0lCA5POY"
   },
   "source": [
    "2. Мы можем еще сильнее уменьшить размер нашей матрицы, если отбросим значения df близкие к единице. Скорее всего такие слова не несут много информации о категории, так как встречаются достаточно часто. Ограничьте максимальный df в параметрах TfIdfVectorizer, поставьте верхнюю границу равную 0.9. Как изменился размер матрицы, как изменилось качество?\n"
   ]
  },
  {
   "cell_type": "code",
   "execution_count": 44,
   "metadata": {},
   "outputs": [
    {
     "name": "stdout",
     "output_type": "stream",
     "text": [
      "(2284, 10483) - Изначальный размер матрицы тестовой выборки\n",
      "(5329, 10483) - Изначальный размер матрицы обучающей выборки\n"
     ]
    }
   ],
   "source": [
    "print(Xtest.shape,'- Изначальный размер матрицы тестовой выборки')\n",
    "print(Xtrain.shape,'- Изначальный размер матрицы обучающей выборки')"
   ]
  },
  {
   "cell_type": "code",
   "execution_count": 45,
   "metadata": {
    "colab": {
     "base_uri": "https://localhost:8080/"
    },
    "id": "EU-MRXyRSHLm",
    "outputId": "6b5353a8-5f3b-4220-fcd4-64eecfe20054"
   },
   "outputs": [
    {
     "name": "stdout",
     "output_type": "stream",
     "text": [
      "F1 score: 0.7426347971095053\n"
     ]
    }
   ],
   "source": [
    "# 2\n",
    "vect2 = TfidfVectorizer(tokenizer=custom_tokenizer, max_df=0.9)\n",
    "Xtrain = vect2.fit_transform(train['text'])\n",
    "Xtest = vect2.transform(test['text'])\n",
    "lr = LogisticRegression(random_state=42)\n",
    "lr.fit(Xtrain, train['target'])\n",
    "yTest = lr.predict(Xtest)\n",
    "print('F1 score:', f1_score(yTest, test['target']))"
   ]
  },
  {
   "cell_type": "code",
   "execution_count": 46,
   "metadata": {
    "id": "z1TkO9HeSTJ9"
   },
   "outputs": [
    {
     "name": "stdout",
     "output_type": "stream",
     "text": [
      "(2284, 10483) - размер матрицы тестовой выборки\n",
      "(5329, 10483) - размер матрицы обучающей выборки\n"
     ]
    }
   ],
   "source": [
    "print(Xtest.shape,'- размер матрицы тестовой выборки')\n",
    "print(Xtrain.shape,'- размер матрицы обучающей выборки')"
   ]
  },
  {
   "cell_type": "markdown",
   "metadata": {
    "id": "4Two_O3rSVmh"
   },
   "source": [
    "2. **Ответ:** Качество осталось прежним, размер также не поменялся"
   ]
  },
  {
   "cell_type": "markdown",
   "metadata": {
    "id": "VhyjbI5X5QnG"
   },
   "source": [
    "3. Также мы можем уменьшить размер матрицы, удаляя слова со слишком маленьким df. Удалось ли добиться улучшения качества? "
   ]
  },
  {
   "cell_type": "code",
   "execution_count": null,
   "metadata": {
    "colab": {
     "base_uri": "https://localhost:8080/"
    },
    "id": "9mNpIxv6SfKc",
    "outputId": "607ec22e-1fdb-4c29-bbc4-6447ed266349"
   },
   "outputs": [],
   "source": [
    "# 3\n",
    "vect3 = TfidfVectorizer(tokenizer=custom_tokenizer, max_df=0.9, min_df=2)\n",
    "Xtrain = vect3.fit_transform(train['text'])\n",
    "Xtest = vect3.transform(test['text'])\n",
    "lr = LogisticRegression(random_state=42)\n",
    "lr.fit(Xtrain, train['target'])\n",
    "yTest = lr.predict(Xtest)\n",
    "print('F1 score:', f1_score(yTest, test['target']))"
   ]
  },
  {
   "cell_type": "code",
   "execution_count": null,
   "metadata": {},
   "outputs": [],
   "source": [
    "print(Xtest.shape,'- размер матрицы тестовой выборки')\n",
    "print(Xtrain.shape,'- размер матрицы обучающей выборки')"
   ]
  },
  {
   "cell_type": "markdown",
   "metadata": {
    "id": "imeD8skxSqdg"
   },
   "source": [
    "3. **Ответ:** Несильно, но получилось добиться улучшения качества. Также кол-во слов уменьшилось."
   ]
  },
  {
   "cell_type": "markdown",
   "metadata": {
    "id": "1l1sx4nB3HvN"
   },
   "source": [
    "## Задание 10 (1 балл)\n",
    "\n",
    "Еще один популяпный трюк, который позволит уменьшить количество признаков называется hashing trick. Его суть в том, то мы случайно группируем признаки ииии  ..... складываем их! А потом удаляем исходные признаки. В итоге все наши признаки это просто суммы исходных. Звучит странно, но это отлично работает. Давайте проверим этот трюк в нашем сеттинге.\n",
    "Также при таком подходе вам не нужно хранить словарь token->index, что тоже иногда полезно.\n",
    "\n",
    "1. Повторите задание 8 с HashingVectorizer, укажите количество фичей равное 5000.\n"
   ]
  },
  {
   "cell_type": "code",
   "execution_count": null,
   "metadata": {
    "colab": {
     "base_uri": "https://localhost:8080/"
    },
    "id": "8qSoW894RXxz",
    "outputId": "720818f4-f774-4273-bb10-918ecc72ef44"
   },
   "outputs": [],
   "source": [
    "from sklearn.feature_extraction.text import HashingVectorizer\n",
    "\n",
    "Hvnsky = HashingVectorizer(tokenizer = custom_tokenizer, n_features = 5000)\n",
    "Xtrain = Hvnsky.fit_transform(train['text'])\n",
    "Xtest = Hvnsky.transform(test['text'])\n",
    "lr = LogisticRegression(random_state=42)\n",
    "lr.fit(Xtrain, train['target'])\n",
    "yTest = lr.predict(Xtest)\n",
    "\n",
    "print('F1 score:', f1_score(yTest, test['target']))"
   ]
  },
  {
   "cell_type": "markdown",
   "metadata": {},
   "source": [
    "F1 стал еще меньше"
   ]
  },
  {
   "cell_type": "markdown",
   "metadata": {
    "id": "1C3I4ceg6AG-"
   },
   "source": [
    "2. Какой из подходов показал самый высокий результат?"
   ]
  },
  {
   "cell_type": "markdown",
   "metadata": {
    "id": "_bIfyVlOS9Lu"
   },
   "source": [
    "2. **Ответ:** Самый высокий результат дал CountVectorizer"
   ]
  },
  {
   "cell_type": "markdown",
   "metadata": {
    "id": "zylJ6l0R3HvN"
   },
   "source": [
    "## Задание 11 (1 балл)\n",
    "\n",
    "В этом задании нужно добиться f1 меры хотя в 0.75 на тестовых данных."
   ]
  },
  {
   "cell_type": "code",
   "execution_count": 233,
   "metadata": {
    "id": "GSTVApFeS-OY"
   },
   "outputs": [
    {
     "name": "stdout",
     "output_type": "stream",
     "text": [
      "F1 mera: 0.7548179871520343\n"
     ]
    }
   ],
   "source": [
    "vectorizer = CountVectorizer(tokenizer=custom_tokenizer, min_df=3)\n",
    "Xtrain = vectorizer.fit_transform(train['text'])\n",
    "Xtest = vectorizer.transform(test['text'])\n",
    "\n",
    "lr = LogisticRegression(random_state=42)\n",
    "lr.fit(Xtrain, train['target'])\n",
    "yTest = lr.predict(Xtest)\n",
    "print('F1 mera:', f1_score(yTest, test['target']))"
   ]
  },
  {
   "cell_type": "code",
   "execution_count": 235,
   "metadata": {},
   "outputs": [
    {
     "name": "stdout",
     "output_type": "stream",
     "text": [
      "Статистика хи-квадрат (χ²): 1.86\n"
     ]
    }
   ],
   "source": [
    "from scipy import stats\n",
    "\n",
    "# Данные\n",
    "observed = [[15, 5], [7, 8]]\n",
    "\n",
    "# Расчет статистики хи-квадрат и p-значения\n",
    "chi2_stat, p_value, _, _ = stats.chi2_contingency(observed)\n",
    "\n",
    "# Округление статистики хи-квадрат до сотых\n",
    "chi2_stat = round(chi2_stat, 2)\n",
    "\n",
    "# Вывод результата\n",
    "print(\"Статистика хи-квадрат (χ²):\", chi2_stat)\n"
   ]
  }
 ],
 "metadata": {
  "colab": {
   "collapsed_sections": [
    "YlLemInT3HvL",
    "A8CPBUal3HvL"
   ],
   "provenance": []
  },
  "kernelspec": {
   "display_name": "Python 3 (ipykernel)",
   "language": "python",
   "name": "python3"
  },
  "language_info": {
   "codemirror_mode": {
    "name": "ipython",
    "version": 3
   },
   "file_extension": ".py",
   "mimetype": "text/x-python",
   "name": "python",
   "nbconvert_exporter": "python",
   "pygments_lexer": "ipython3",
   "version": "3.9.6"
  }
 },
 "nbformat": 4,
 "nbformat_minor": 1
}
